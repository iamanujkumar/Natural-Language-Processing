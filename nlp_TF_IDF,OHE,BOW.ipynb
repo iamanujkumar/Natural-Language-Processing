{
  "nbformat": 4,
  "nbformat_minor": 0,
  "metadata": {
    "colab": {
      "provenance": [],
      "authorship_tag": "ABX9TyMJS+XaAFo++bFiKUdxePYS",
      "include_colab_link": true
    },
    "kernelspec": {
      "name": "python3",
      "display_name": "Python 3"
    },
    "language_info": {
      "name": "python"
    }
  },
  "cells": [
    {
      "cell_type": "markdown",
      "metadata": {
        "id": "view-in-github",
        "colab_type": "text"
      },
      "source": [
        "<a href=\"https://colab.research.google.com/github/iamanujkumar/Natural-Language-Processing/blob/main/nlp_TF_IDF%2COHE%2CBOW.ipynb\" target=\"_parent\"><img src=\"https://colab.research.google.com/assets/colab-badge.svg\" alt=\"Open In Colab\"/></a>"
      ]
    },
    {
      "cell_type": "code",
      "execution_count": 1,
      "metadata": {
        "colab": {
          "base_uri": "https://localhost:8080/"
        },
        "id": "2GiuMRpv8DGU",
        "outputId": "dc47b2bf-2c9b-4cd5-84d4-e76c393dae41"
      },
      "outputs": [
        {
          "output_type": "stream",
          "name": "stdout",
          "text": [
            "Requirement already satisfied: nltk in /usr/local/lib/python3.12/dist-packages (3.9.1)\n",
            "Requirement already satisfied: click in /usr/local/lib/python3.12/dist-packages (from nltk) (8.2.1)\n",
            "Requirement already satisfied: joblib in /usr/local/lib/python3.12/dist-packages (from nltk) (1.5.2)\n",
            "Requirement already satisfied: regex>=2021.8.3 in /usr/local/lib/python3.12/dist-packages (from nltk) (2024.11.6)\n",
            "Requirement already satisfied: tqdm in /usr/local/lib/python3.12/dist-packages (from nltk) (4.67.1)\n"
          ]
        }
      ],
      "source": [
        "!pip install nltk"
      ]
    },
    {
      "cell_type": "code",
      "source": [
        "paragraph = \"\"\"\n",
        "Narendra Damodardas Modi[a] (born 17 September 1950) is an Indian politician who has served as the prime minister of India since 2014. Modi was the chief minister of Gujarat from 2001 to 2014 and is the member of parliament (MP) for Varanasi. He is a member of the Bharatiya Janata Party (BJP) and of the Rashtriya Swayamsevak Sangh (RSS), a right-wing Hindutva paramilitary volunteer organisation. He is the longest-serving prime minister outside the Indian National Congress.\n",
        "\n",
        "Modi was born and raised in Vadnagar, Bombay State (present-day Gujarat), where he completed his secondary education. He was introduced to the RSS at the age of eight, becoming a full-time worker for the organisation in Gujarat in 1971. The RSS assigned him to the BJP in 1985, and he rose through the party hierarchy, becoming general secretary in 1998.[b] In 2001, Modi was appointed chief minister of Gujarat and elected to the legislative assembly soon after. His administration is considered complicit in the 2002 Gujarat riots[c] and has been criticised for its management of the crisis. According to official records, a little over 1,000 people were killed, three-quarters of whom were Muslim; independent sources estimated 2,000 deaths, mostly Muslim.[4] A Special Investigation Team appointed by the Supreme Court of India in 2012 found no evidence to initiate prosecution proceedings against him.[d] While his policies as chief minister were credited for encouraging economic growth, his administration was criticised for failing to significantly improve health, poverty and education indices in the state.[e]\n",
        "\"\"\""
      ],
      "metadata": {
        "id": "5qhlDzRJ8HM3"
      },
      "execution_count": 2,
      "outputs": []
    },
    {
      "cell_type": "code",
      "source": [
        "paragraph"
      ],
      "metadata": {
        "colab": {
          "base_uri": "https://localhost:8080/",
          "height": 139
        },
        "id": "RTv6NTM38hUz",
        "outputId": "b6f351c2-b7f7-4371-d56f-cd23f27c2dbc"
      },
      "execution_count": 3,
      "outputs": [
        {
          "output_type": "execute_result",
          "data": {
            "text/plain": [
              "'\\nNarendra Damodardas Modi[a] (born 17 September 1950) is an Indian politician who has served as the prime minister of India since 2014. Modi was the chief minister of Gujarat from 2001 to 2014 and is the member of parliament (MP) for Varanasi. He is a member of the Bharatiya Janata Party (BJP) and of the Rashtriya Swayamsevak Sangh (RSS), a right-wing Hindutva paramilitary volunteer organisation. He is the longest-serving prime minister outside the Indian National Congress.\\n\\nModi was born and raised in Vadnagar, Bombay State (present-day Gujarat), where he completed his secondary education. He was introduced to the RSS at the age of eight, becoming a full-time worker for the organisation in Gujarat in 1971. The RSS assigned him to the BJP in 1985, and he rose through the party hierarchy, becoming general secretary in 1998.[b] In 2001, Modi was appointed chief minister of Gujarat and elected to the legislative assembly soon after. His administration is considered complicit in the 2002 Gujarat riots[c] and has been criticised for its management of the crisis. According to official records, a little over 1,000 people were killed, three-quarters of whom were Muslim; independent sources estimated 2,000 deaths, mostly Muslim.[4] A Special Investigation Team appointed by the Supreme Court of India in 2012 found no evidence to initiate prosecution proceedings against him.[d] While his policies as chief minister were credited for encouraging economic growth, his administration was criticised for failing to significantly improve health, poverty and education indices in the state.[e]\\n'"
            ],
            "application/vnd.google.colaboratory.intrinsic+json": {
              "type": "string"
            }
          },
          "metadata": {},
          "execution_count": 3
        }
      ]
    },
    {
      "cell_type": "code",
      "source": [
        "import nltk\n",
        "from nltk.stem import PorterStemmer\n",
        "from nltk.corpus import stopwords"
      ],
      "metadata": {
        "id": "6Rw_Gqi-8lcs"
      },
      "execution_count": 4,
      "outputs": []
    },
    {
      "cell_type": "code",
      "source": [
        "nltk.download('punkt')"
      ],
      "metadata": {
        "colab": {
          "base_uri": "https://localhost:8080/"
        },
        "id": "Kl7NbAmf88Zm",
        "outputId": "26be4dab-64b1-4a62-9e0f-c76b1ae9fe55"
      },
      "execution_count": 5,
      "outputs": [
        {
          "output_type": "stream",
          "name": "stderr",
          "text": [
            "[nltk_data] Downloading package punkt to /root/nltk_data...\n",
            "[nltk_data]   Unzipping tokenizers/punkt.zip.\n"
          ]
        },
        {
          "output_type": "execute_result",
          "data": {
            "text/plain": [
              "True"
            ]
          },
          "metadata": {},
          "execution_count": 5
        }
      ]
    },
    {
      "cell_type": "code",
      "metadata": {
        "colab": {
          "base_uri": "https://localhost:8080/"
        },
        "id": "97e63230",
        "outputId": "b1bef3c6-308c-44e3-ac66-4e1a6eba3cfc"
      },
      "source": [
        "nltk.download('punkt_tab')"
      ],
      "execution_count": 6,
      "outputs": [
        {
          "output_type": "stream",
          "name": "stderr",
          "text": [
            "[nltk_data] Downloading package punkt_tab to /root/nltk_data...\n",
            "[nltk_data]   Unzipping tokenizers/punkt_tab.zip.\n"
          ]
        },
        {
          "output_type": "execute_result",
          "data": {
            "text/plain": [
              "True"
            ]
          },
          "metadata": {},
          "execution_count": 6
        }
      ]
    },
    {
      "cell_type": "code",
      "metadata": {
        "colab": {
          "base_uri": "https://localhost:8080/"
        },
        "id": "b0dde32c",
        "outputId": "34f5c887-3ebe-4543-e184-0b81ffcb0173"
      },
      "source": [
        "nltk.download('punkt_tab')"
      ],
      "execution_count": 7,
      "outputs": [
        {
          "output_type": "stream",
          "name": "stderr",
          "text": [
            "[nltk_data] Downloading package punkt_tab to /root/nltk_data...\n",
            "[nltk_data]   Package punkt_tab is already up-to-date!\n"
          ]
        },
        {
          "output_type": "execute_result",
          "data": {
            "text/plain": [
              "True"
            ]
          },
          "metadata": {},
          "execution_count": 7
        }
      ]
    },
    {
      "cell_type": "code",
      "source": [
        "sentences = nltk.sent_tokenize(paragraph)"
      ],
      "metadata": {
        "id": "vITL-BiM-UTd"
      },
      "execution_count": 8,
      "outputs": []
    },
    {
      "cell_type": "code",
      "source": [
        "sentences"
      ],
      "metadata": {
        "colab": {
          "base_uri": "https://localhost:8080/"
        },
        "id": "s7jrp9S8-Vxc",
        "outputId": "49f411ac-fc83-4ca0-bc46-ebaa8447c102"
      },
      "execution_count": 9,
      "outputs": [
        {
          "output_type": "execute_result",
          "data": {
            "text/plain": [
              "['\\nNarendra Damodardas Modi[a] (born 17 September 1950) is an Indian politician who has served as the prime minister of India since 2014.',\n",
              " 'Modi was the chief minister of Gujarat from 2001 to 2014 and is the member of parliament (MP) for Varanasi.',\n",
              " 'He is a member of the Bharatiya Janata Party (BJP) and of the Rashtriya Swayamsevak Sangh (RSS), a right-wing Hindutva paramilitary volunteer organisation.',\n",
              " 'He is the longest-serving prime minister outside the Indian National Congress.',\n",
              " 'Modi was born and raised in Vadnagar, Bombay State (present-day Gujarat), where he completed his secondary education.',\n",
              " 'He was introduced to the RSS at the age of eight, becoming a full-time worker for the organisation in Gujarat in 1971.',\n",
              " 'The RSS assigned him to the BJP in 1985, and he rose through the party hierarchy, becoming general secretary in 1998.',\n",
              " '[b] In 2001, Modi was appointed chief minister of Gujarat and elected to the legislative assembly soon after.',\n",
              " 'His administration is considered complicit in the 2002 Gujarat riots[c] and has been criticised for its management of the crisis.',\n",
              " 'According to official records, a little over 1,000 people were killed, three-quarters of whom were Muslim; independent sources estimated 2,000 deaths, mostly Muslim.',\n",
              " '[4] A Special Investigation Team appointed by the Supreme Court of India in 2012 found no evidence to initiate prosecution proceedings against him.',\n",
              " '[d] While his policies as chief minister were credited for encouraging economic growth, his administration was criticised for failing to significantly improve health, poverty and education indices in the state.',\n",
              " '[e]']"
            ]
          },
          "metadata": {},
          "execution_count": 9
        }
      ]
    },
    {
      "cell_type": "code",
      "source": [
        "type(sentences)"
      ],
      "metadata": {
        "colab": {
          "base_uri": "https://localhost:8080/"
        },
        "id": "9oA2ml3Q-6gd",
        "outputId": "e78aee2c-025e-471a-a68a-38e7cfc77ce7"
      },
      "execution_count": 10,
      "outputs": [
        {
          "output_type": "execute_result",
          "data": {
            "text/plain": [
              "list"
            ]
          },
          "metadata": {},
          "execution_count": 10
        }
      ]
    },
    {
      "cell_type": "code",
      "source": [
        "stemmer = PorterStemmer()"
      ],
      "metadata": {
        "id": "cKpmqx_0_DBM"
      },
      "execution_count": 11,
      "outputs": []
    },
    {
      "cell_type": "code",
      "source": [
        "stemmer.stem('history')"
      ],
      "metadata": {
        "colab": {
          "base_uri": "https://localhost:8080/",
          "height": 35
        },
        "id": "uAlihcIY_a98",
        "outputId": "c2b7b172-a830-468c-d9bd-3c4a90aec6ff"
      },
      "execution_count": 12,
      "outputs": [
        {
          "output_type": "execute_result",
          "data": {
            "text/plain": [
              "'histori'"
            ],
            "application/vnd.google.colaboratory.intrinsic+json": {
              "type": "string"
            }
          },
          "metadata": {},
          "execution_count": 12
        }
      ]
    },
    {
      "cell_type": "code",
      "source": [
        "from nltk.stem import WordNetLemmatizer"
      ],
      "metadata": {
        "id": "Tib_AT4n_n5k"
      },
      "execution_count": 13,
      "outputs": []
    },
    {
      "cell_type": "code",
      "source": [
        "nltk.download('wordnet')"
      ],
      "metadata": {
        "colab": {
          "base_uri": "https://localhost:8080/"
        },
        "id": "XIXESeIPCwjE",
        "outputId": "4f107591-a6f6-4dba-c90e-9ddf677b4898"
      },
      "execution_count": 14,
      "outputs": [
        {
          "output_type": "stream",
          "name": "stderr",
          "text": [
            "[nltk_data] Downloading package wordnet to /root/nltk_data...\n"
          ]
        },
        {
          "output_type": "execute_result",
          "data": {
            "text/plain": [
              "True"
            ]
          },
          "metadata": {},
          "execution_count": 14
        }
      ]
    },
    {
      "cell_type": "code",
      "source": [
        "lemmitizer = WordNetLemmatizer()"
      ],
      "metadata": {
        "id": "xWDoaD3b_zw9"
      },
      "execution_count": 15,
      "outputs": []
    },
    {
      "cell_type": "code",
      "source": [
        "lemmitizer.lemmatize('history')"
      ],
      "metadata": {
        "colab": {
          "base_uri": "https://localhost:8080/",
          "height": 35
        },
        "id": "ROjoDJnACI71",
        "outputId": "3cea7dfc-2618-4d31-e99d-7d7d04a64956"
      },
      "execution_count": 16,
      "outputs": [
        {
          "output_type": "execute_result",
          "data": {
            "text/plain": [
              "'history'"
            ],
            "application/vnd.google.colaboratory.intrinsic+json": {
              "type": "string"
            }
          },
          "metadata": {},
          "execution_count": 16
        }
      ]
    },
    {
      "cell_type": "code",
      "metadata": {
        "colab": {
          "base_uri": "https://localhost:8080/",
          "height": 35
        },
        "id": "8d9bff14",
        "outputId": "2ecdbf08-f601-42a6-851c-870ddaeb0baf"
      },
      "source": [
        "lemmitizer.lemmatize('caring')"
      ],
      "execution_count": 17,
      "outputs": [
        {
          "output_type": "execute_result",
          "data": {
            "text/plain": [
              "'caring'"
            ],
            "application/vnd.google.colaboratory.intrinsic+json": {
              "type": "string"
            }
          },
          "metadata": {},
          "execution_count": 17
        }
      ]
    },
    {
      "cell_type": "code",
      "metadata": {
        "id": "fe5f1f6e"
      },
      "source": [
        "import re"
      ],
      "execution_count": 18,
      "outputs": []
    },
    {
      "cell_type": "code",
      "source": [
        "corpus = []\n",
        "for i in range(len(sentences)):\n",
        "  review = re.sub('[^a-zA-Z]',' ',sentences[i])\n",
        "  review = review.lower()\n",
        "  corpus.append(review)"
      ],
      "metadata": {
        "id": "GLRDYOW8DiwU"
      },
      "execution_count": 19,
      "outputs": []
    },
    {
      "cell_type": "code",
      "source": [
        "corpus"
      ],
      "metadata": {
        "colab": {
          "base_uri": "https://localhost:8080/"
        },
        "id": "dLhXB1giEGPU",
        "outputId": "dd675832-41a6-4d8a-d0c9-5342245a2315"
      },
      "execution_count": 20,
      "outputs": [
        {
          "output_type": "execute_result",
          "data": {
            "text/plain": [
              "[' narendra damodardas modi a   born    september       is an indian politician who has served as the prime minister of india since      ',\n",
              " 'modi was the chief minister of gujarat from      to      and is the member of parliament  mp  for varanasi ',\n",
              " 'he is a member of the bharatiya janata party  bjp  and of the rashtriya swayamsevak sangh  rss   a right wing hindutva paramilitary volunteer organisation ',\n",
              " 'he is the longest serving prime minister outside the indian national congress ',\n",
              " 'modi was born and raised in vadnagar  bombay state  present day gujarat   where he completed his secondary education ',\n",
              " 'he was introduced to the rss at the age of eight  becoming a full time worker for the organisation in gujarat in      ',\n",
              " 'the rss assigned him to the bjp in       and he rose through the party hierarchy  becoming general secretary in      ',\n",
              " ' b  in       modi was appointed chief minister of gujarat and elected to the legislative assembly soon after ',\n",
              " 'his administration is considered complicit in the      gujarat riots c  and has been criticised for its management of the crisis ',\n",
              " 'according to official records  a little over       people were killed  three quarters of whom were muslim  independent sources estimated       deaths  mostly muslim ',\n",
              " '    a special investigation team appointed by the supreme court of india in      found no evidence to initiate prosecution proceedings against him ',\n",
              " ' d  while his policies as chief minister were credited for encouraging economic growth  his administration was criticised for failing to significantly improve health  poverty and education indices in the state ',\n",
              " ' e ']"
            ]
          },
          "metadata": {},
          "execution_count": 20
        }
      ]
    },
    {
      "cell_type": "code",
      "source": [
        "for i in corpus:\n",
        "  print(i)"
      ],
      "metadata": {
        "colab": {
          "base_uri": "https://localhost:8080/"
        },
        "id": "Jck2oCKeFN00",
        "outputId": "d83ed675-d331-4f19-ffcf-6091bcd94db6"
      },
      "execution_count": 21,
      "outputs": [
        {
          "output_type": "stream",
          "name": "stdout",
          "text": [
            " narendra damodardas modi a   born    september       is an indian politician who has served as the prime minister of india since      \n",
            "modi was the chief minister of gujarat from      to      and is the member of parliament  mp  for varanasi \n",
            "he is a member of the bharatiya janata party  bjp  and of the rashtriya swayamsevak sangh  rss   a right wing hindutva paramilitary volunteer organisation \n",
            "he is the longest serving prime minister outside the indian national congress \n",
            "modi was born and raised in vadnagar  bombay state  present day gujarat   where he completed his secondary education \n",
            "he was introduced to the rss at the age of eight  becoming a full time worker for the organisation in gujarat in      \n",
            "the rss assigned him to the bjp in       and he rose through the party hierarchy  becoming general secretary in      \n",
            " b  in       modi was appointed chief minister of gujarat and elected to the legislative assembly soon after \n",
            "his administration is considered complicit in the      gujarat riots c  and has been criticised for its management of the crisis \n",
            "according to official records  a little over       people were killed  three quarters of whom were muslim  independent sources estimated       deaths  mostly muslim \n",
            "    a special investigation team appointed by the supreme court of india in      found no evidence to initiate prosecution proceedings against him \n",
            " d  while his policies as chief minister were credited for encouraging economic growth  his administration was criticised for failing to significantly improve health  poverty and education indices in the state \n",
            " e \n"
          ]
        }
      ]
    },
    {
      "cell_type": "code",
      "source": [
        "nltk.download('stopwords')"
      ],
      "metadata": {
        "colab": {
          "base_uri": "https://localhost:8080/"
        },
        "id": "GyGCko28GnS9",
        "outputId": "4eb28f8c-2666-4a11-ce13-888cbfb832f4"
      },
      "execution_count": 22,
      "outputs": [
        {
          "output_type": "stream",
          "name": "stderr",
          "text": [
            "[nltk_data] Downloading package stopwords to /root/nltk_data...\n",
            "[nltk_data]   Unzipping corpora/stopwords.zip.\n"
          ]
        },
        {
          "output_type": "execute_result",
          "data": {
            "text/plain": [
              "True"
            ]
          },
          "metadata": {},
          "execution_count": 22
        }
      ]
    },
    {
      "cell_type": "code",
      "source": [
        "for i in corpus:\n",
        "  words = nltk.word_tokenize(i)\n",
        "  for word in words:\n",
        "    if word not in set(stopwords.words('english')):\n",
        "      print(stemmer.stem(word))"
      ],
      "metadata": {
        "colab": {
          "base_uri": "https://localhost:8080/"
        },
        "id": "3JLces0eFg3t",
        "outputId": "94912ceb-17c9-4a60-b8e1-c1ba46f20f6d"
      },
      "execution_count": 23,
      "outputs": [
        {
          "output_type": "stream",
          "name": "stdout",
          "text": [
            "narendra\n",
            "damodarda\n",
            "modi\n",
            "born\n",
            "septemb\n",
            "indian\n",
            "politician\n",
            "serv\n",
            "prime\n",
            "minist\n",
            "india\n",
            "sinc\n",
            "modi\n",
            "chief\n",
            "minist\n",
            "gujarat\n",
            "member\n",
            "parliament\n",
            "mp\n",
            "varanasi\n",
            "member\n",
            "bharatiya\n",
            "janata\n",
            "parti\n",
            "bjp\n",
            "rashtriya\n",
            "swayamsevak\n",
            "sangh\n",
            "rss\n",
            "right\n",
            "wing\n",
            "hindutva\n",
            "paramilitari\n",
            "volunt\n",
            "organis\n",
            "longest\n",
            "serv\n",
            "prime\n",
            "minist\n",
            "outsid\n",
            "indian\n",
            "nation\n",
            "congress\n",
            "modi\n",
            "born\n",
            "rais\n",
            "vadnagar\n",
            "bombay\n",
            "state\n",
            "present\n",
            "day\n",
            "gujarat\n",
            "complet\n",
            "secondari\n",
            "educ\n",
            "introduc\n",
            "rss\n",
            "age\n",
            "eight\n",
            "becom\n",
            "full\n",
            "time\n",
            "worker\n",
            "organis\n",
            "gujarat\n",
            "rss\n",
            "assign\n",
            "bjp\n",
            "rose\n",
            "parti\n",
            "hierarchi\n",
            "becom\n",
            "gener\n",
            "secretari\n",
            "b\n",
            "modi\n",
            "appoint\n",
            "chief\n",
            "minist\n",
            "gujarat\n",
            "elect\n",
            "legisl\n",
            "assembl\n",
            "soon\n",
            "administr\n",
            "consid\n",
            "complicit\n",
            "gujarat\n",
            "riot\n",
            "c\n",
            "criticis\n",
            "manag\n",
            "crisi\n",
            "accord\n",
            "offici\n",
            "record\n",
            "littl\n",
            "peopl\n",
            "kill\n",
            "three\n",
            "quarter\n",
            "muslim\n",
            "independ\n",
            "sourc\n",
            "estim\n",
            "death\n",
            "mostli\n",
            "muslim\n",
            "special\n",
            "investig\n",
            "team\n",
            "appoint\n",
            "suprem\n",
            "court\n",
            "india\n",
            "found\n",
            "evid\n",
            "initi\n",
            "prosecut\n",
            "proceed\n",
            "polici\n",
            "chief\n",
            "minist\n",
            "credit\n",
            "encourag\n",
            "econom\n",
            "growth\n",
            "administr\n",
            "criticis\n",
            "fail\n",
            "significantli\n",
            "improv\n",
            "health\n",
            "poverti\n",
            "educ\n",
            "indic\n",
            "state\n",
            "e\n"
          ]
        }
      ]
    },
    {
      "cell_type": "code",
      "metadata": {
        "colab": {
          "base_uri": "https://localhost:8080/"
        },
        "id": "05b21ad7",
        "outputId": "2a09daed-a60d-4a36-c6d1-539fd3ff6934"
      },
      "source": [
        "for i in corpus:\n",
        "  words = nltk.word_tokenize(i)\n",
        "  for word in words:\n",
        "    if word not in set(stopwords.words('english')):\n",
        "      print(lemmitizer.lemmatize(word))"
      ],
      "execution_count": 24,
      "outputs": [
        {
          "output_type": "stream",
          "name": "stdout",
          "text": [
            "narendra\n",
            "damodardas\n",
            "modi\n",
            "born\n",
            "september\n",
            "indian\n",
            "politician\n",
            "served\n",
            "prime\n",
            "minister\n",
            "india\n",
            "since\n",
            "modi\n",
            "chief\n",
            "minister\n",
            "gujarat\n",
            "member\n",
            "parliament\n",
            "mp\n",
            "varanasi\n",
            "member\n",
            "bharatiya\n",
            "janata\n",
            "party\n",
            "bjp\n",
            "rashtriya\n",
            "swayamsevak\n",
            "sangh\n",
            "rss\n",
            "right\n",
            "wing\n",
            "hindutva\n",
            "paramilitary\n",
            "volunteer\n",
            "organisation\n",
            "longest\n",
            "serving\n",
            "prime\n",
            "minister\n",
            "outside\n",
            "indian\n",
            "national\n",
            "congress\n",
            "modi\n",
            "born\n",
            "raised\n",
            "vadnagar\n",
            "bombay\n",
            "state\n",
            "present\n",
            "day\n",
            "gujarat\n",
            "completed\n",
            "secondary\n",
            "education\n",
            "introduced\n",
            "rss\n",
            "age\n",
            "eight\n",
            "becoming\n",
            "full\n",
            "time\n",
            "worker\n",
            "organisation\n",
            "gujarat\n",
            "rss\n",
            "assigned\n",
            "bjp\n",
            "rose\n",
            "party\n",
            "hierarchy\n",
            "becoming\n",
            "general\n",
            "secretary\n",
            "b\n",
            "modi\n",
            "appointed\n",
            "chief\n",
            "minister\n",
            "gujarat\n",
            "elected\n",
            "legislative\n",
            "assembly\n",
            "soon\n",
            "administration\n",
            "considered\n",
            "complicit\n",
            "gujarat\n",
            "riot\n",
            "c\n",
            "criticised\n",
            "management\n",
            "crisis\n",
            "according\n",
            "official\n",
            "record\n",
            "little\n",
            "people\n",
            "killed\n",
            "three\n",
            "quarter\n",
            "muslim\n",
            "independent\n",
            "source\n",
            "estimated\n",
            "death\n",
            "mostly\n",
            "muslim\n",
            "special\n",
            "investigation\n",
            "team\n",
            "appointed\n",
            "supreme\n",
            "court\n",
            "india\n",
            "found\n",
            "evidence\n",
            "initiate\n",
            "prosecution\n",
            "proceeding\n",
            "policy\n",
            "chief\n",
            "minister\n",
            "credited\n",
            "encouraging\n",
            "economic\n",
            "growth\n",
            "administration\n",
            "criticised\n",
            "failing\n",
            "significantly\n",
            "improve\n",
            "health\n",
            "poverty\n",
            "education\n",
            "index\n",
            "state\n",
            "e\n"
          ]
        }
      ]
    },
    {
      "cell_type": "code",
      "source": [
        "import re\n",
        "corpus = []\n",
        "for i in range(len(sentences)):\n",
        "  review = re.sub('[^a-zA-Z]',' ',sentences[i])\n",
        "  review = review.lower()\n",
        "  review = review.split()\n",
        "  review = [lemmitizer.lemmatize(word) for word in review if not word in set(stopwords.words('english'))]\n",
        "  review = ' '.join(review)\n",
        "  corpus.append(review)"
      ],
      "metadata": {
        "id": "bsH7KNcgQxXT"
      },
      "execution_count": 25,
      "outputs": []
    },
    {
      "cell_type": "code",
      "source": [
        "from sklearn.feature_extraction.text import CountVectorizer\n",
        "cv=CountVectorizer(binary = True, ngram_range=(2,3))"
      ],
      "metadata": {
        "id": "vP8d5EU_HtLV"
      },
      "execution_count": 26,
      "outputs": []
    },
    {
      "cell_type": "code",
      "source": [
        "X = cv.fit_transform(corpus)"
      ],
      "metadata": {
        "id": "2Rhywyp-IHoT"
      },
      "execution_count": 27,
      "outputs": []
    },
    {
      "cell_type": "code",
      "source": [
        "cv.vocabulary_"
      ],
      "metadata": {
        "colab": {
          "base_uri": "https://localhost:8080/"
        },
        "id": "bzfiF-EKISNL",
        "outputId": "66dfd1f4-49c5-45e2-8ce7-32a0124b3b2e"
      },
      "execution_count": 28,
      "outputs": [
        {
          "output_type": "execute_result",
          "data": {
            "text/plain": [
              "{'narendra damodardas': 144,\n",
              " 'damodardas modi': 48,\n",
              " 'modi born': 135,\n",
              " 'born september': 29,\n",
              " 'september indian': 197,\n",
              " 'indian politician': 101,\n",
              " 'politician served': 164,\n",
              " 'served prime': 199,\n",
              " 'prime minister': 170,\n",
              " 'minister india': 129,\n",
              " 'india since': 98,\n",
              " 'narendra damodardas modi': 145,\n",
              " 'damodardas modi born': 49,\n",
              " 'modi born september': 137,\n",
              " 'born september indian': 30,\n",
              " 'september indian politician': 198,\n",
              " 'indian politician served': 102,\n",
              " 'politician served prime': 165,\n",
              " 'served prime minister': 200,\n",
              " 'prime minister india': 171,\n",
              " 'minister india since': 130,\n",
              " 'modi chief': 138,\n",
              " 'chief minister': 31,\n",
              " 'minister gujarat': 126,\n",
              " 'gujarat member': 81,\n",
              " 'member parliament': 122,\n",
              " 'parliament mp': 154,\n",
              " 'mp varanasi': 141,\n",
              " 'modi chief minister': 139,\n",
              " 'chief minister gujarat': 33,\n",
              " 'minister gujarat member': 128,\n",
              " 'gujarat member parliament': 82,\n",
              " 'member parliament mp': 123,\n",
              " 'parliament mp varanasi': 155,\n",
              " 'member bharatiya': 120,\n",
              " 'bharatiya janata': 19,\n",
              " 'janata party': 109,\n",
              " 'party bjp': 156,\n",
              " 'bjp rashtriya': 21,\n",
              " 'rashtriya swayamsevak': 178,\n",
              " 'swayamsevak sangh': 213,\n",
              " 'sangh rss': 194,\n",
              " 'rss right': 192,\n",
              " 'right wing': 182,\n",
              " 'wing hindutva': 224,\n",
              " 'hindutva paramilitary': 89,\n",
              " 'paramilitary volunteer': 152,\n",
              " 'volunteer organisation': 223,\n",
              " 'member bharatiya janata': 121,\n",
              " 'bharatiya janata party': 20,\n",
              " 'janata party bjp': 110,\n",
              " 'party bjp rashtriya': 157,\n",
              " 'bjp rashtriya swayamsevak': 22,\n",
              " 'rashtriya swayamsevak sangh': 179,\n",
              " 'swayamsevak sangh rss': 214,\n",
              " 'sangh rss right': 195,\n",
              " 'rss right wing': 193,\n",
              " 'right wing hindutva': 183,\n",
              " 'wing hindutva paramilitary': 225,\n",
              " 'hindutva paramilitary volunteer': 90,\n",
              " 'paramilitary volunteer organisation': 153,\n",
              " 'longest serving': 117,\n",
              " 'serving prime': 201,\n",
              " 'minister outside': 131,\n",
              " 'outside indian': 150,\n",
              " 'indian national': 99,\n",
              " 'national congress': 146,\n",
              " 'longest serving prime': 118,\n",
              " 'serving prime minister': 202,\n",
              " 'prime minister outside': 172,\n",
              " 'minister outside indian': 132,\n",
              " 'outside indian national': 151,\n",
              " 'indian national congress': 100,\n",
              " 'born raised': 27,\n",
              " 'raised vadnagar': 176,\n",
              " 'vadnagar bombay': 221,\n",
              " 'bombay state': 25,\n",
              " 'state present': 209,\n",
              " 'present day': 168,\n",
              " 'day gujarat': 50,\n",
              " 'gujarat completed': 77,\n",
              " 'completed secondary': 34,\n",
              " 'secondary education': 196,\n",
              " 'modi born raised': 136,\n",
              " 'born raised vadnagar': 28,\n",
              " 'raised vadnagar bombay': 177,\n",
              " 'vadnagar bombay state': 222,\n",
              " 'bombay state present': 26,\n",
              " 'state present day': 210,\n",
              " 'present day gujarat': 169,\n",
              " 'day gujarat completed': 51,\n",
              " 'gujarat completed secondary': 78,\n",
              " 'completed secondary education': 35,\n",
              " 'introduced rss': 105,\n",
              " 'rss age': 188,\n",
              " 'age eight': 6,\n",
              " 'eight becoming': 58,\n",
              " 'becoming full': 15,\n",
              " 'full time': 72,\n",
              " 'time worker': 219,\n",
              " 'worker organisation': 226,\n",
              " 'organisation gujarat': 149,\n",
              " 'introduced rss age': 106,\n",
              " 'rss age eight': 189,\n",
              " 'age eight becoming': 7,\n",
              " 'eight becoming full': 59,\n",
              " 'becoming full time': 16,\n",
              " 'full time worker': 73,\n",
              " 'time worker organisation': 220,\n",
              " 'worker organisation gujarat': 227,\n",
              " 'rss assigned': 190,\n",
              " 'assigned bjp': 13,\n",
              " 'bjp rose': 23,\n",
              " 'rose party': 186,\n",
              " 'party hierarchy': 158,\n",
              " 'hierarchy becoming': 87,\n",
              " 'becoming general': 17,\n",
              " 'general secretary': 74,\n",
              " 'rss assigned bjp': 191,\n",
              " 'assigned bjp rose': 14,\n",
              " 'bjp rose party': 24,\n",
              " 'rose party hierarchy': 187,\n",
              " 'party hierarchy becoming': 159,\n",
              " 'hierarchy becoming general': 88,\n",
              " 'becoming general secretary': 18,\n",
              " 'modi appointed': 133,\n",
              " 'appointed chief': 8,\n",
              " 'gujarat elected': 79,\n",
              " 'elected legislative': 60,\n",
              " 'legislative assembly': 113,\n",
              " 'assembly soon': 12,\n",
              " 'modi appointed chief': 134,\n",
              " 'appointed chief minister': 9,\n",
              " 'minister gujarat elected': 127,\n",
              " 'gujarat elected legislative': 80,\n",
              " 'elected legislative assembly': 61,\n",
              " 'legislative assembly soon': 114,\n",
              " 'administration considered': 2,\n",
              " 'considered complicit': 38,\n",
              " 'complicit gujarat': 36,\n",
              " 'gujarat riot': 83,\n",
              " 'riot criticised': 184,\n",
              " 'criticised management': 46,\n",
              " 'management crisis': 119,\n",
              " 'administration considered complicit': 3,\n",
              " 'considered complicit gujarat': 39,\n",
              " 'complicit gujarat riot': 37,\n",
              " 'gujarat riot criticised': 84,\n",
              " 'riot criticised management': 185,\n",
              " 'criticised management crisis': 47,\n",
              " 'according official': 0,\n",
              " 'official record': 147,\n",
              " 'record little': 180,\n",
              " 'little people': 115,\n",
              " 'people killed': 160,\n",
              " 'killed three': 111,\n",
              " 'three quarter': 217,\n",
              " 'quarter muslim': 174,\n",
              " 'muslim independent': 142,\n",
              " 'independent source': 93,\n",
              " 'source estimated': 205,\n",
              " 'estimated death': 64,\n",
              " 'death mostly': 52,\n",
              " 'mostly muslim': 140,\n",
              " 'according official record': 1,\n",
              " 'official record little': 148,\n",
              " 'record little people': 181,\n",
              " 'little people killed': 116,\n",
              " 'people killed three': 161,\n",
              " 'killed three quarter': 112,\n",
              " 'three quarter muslim': 218,\n",
              " 'quarter muslim independent': 175,\n",
              " 'muslim independent source': 143,\n",
              " 'independent source estimated': 94,\n",
              " 'source estimated death': 206,\n",
              " 'estimated death mostly': 65,\n",
              " 'death mostly muslim': 53,\n",
              " 'special investigation': 207,\n",
              " 'investigation team': 107,\n",
              " 'team appointed': 215,\n",
              " 'appointed supreme': 10,\n",
              " 'supreme court': 211,\n",
              " 'court india': 40,\n",
              " 'india found': 96,\n",
              " 'found evidence': 70,\n",
              " 'evidence initiate': 66,\n",
              " 'initiate prosecution': 103,\n",
              " 'prosecution proceeding': 173,\n",
              " 'special investigation team': 208,\n",
              " 'investigation team appointed': 108,\n",
              " 'team appointed supreme': 216,\n",
              " 'appointed supreme court': 11,\n",
              " 'supreme court india': 212,\n",
              " 'court india found': 41,\n",
              " 'india found evidence': 97,\n",
              " 'found evidence initiate': 71,\n",
              " 'evidence initiate prosecution': 67,\n",
              " 'initiate prosecution proceeding': 104,\n",
              " 'policy chief': 162,\n",
              " 'minister credited': 124,\n",
              " 'credited encouraging': 42,\n",
              " 'encouraging economic': 62,\n",
              " 'economic growth': 54,\n",
              " 'growth administration': 75,\n",
              " 'administration criticised': 4,\n",
              " 'criticised failing': 44,\n",
              " 'failing significantly': 68,\n",
              " 'significantly improve': 203,\n",
              " 'improve health': 91,\n",
              " 'health poverty': 85,\n",
              " 'poverty education': 166,\n",
              " 'education index': 56,\n",
              " 'index state': 95,\n",
              " 'policy chief minister': 163,\n",
              " 'chief minister credited': 32,\n",
              " 'minister credited encouraging': 125,\n",
              " 'credited encouraging economic': 43,\n",
              " 'encouraging economic growth': 63,\n",
              " 'economic growth administration': 55,\n",
              " 'growth administration criticised': 76,\n",
              " 'administration criticised failing': 5,\n",
              " 'criticised failing significantly': 45,\n",
              " 'failing significantly improve': 69,\n",
              " 'significantly improve health': 204,\n",
              " 'improve health poverty': 92,\n",
              " 'health poverty education': 86,\n",
              " 'poverty education index': 167,\n",
              " 'education index state': 57}"
            ]
          },
          "metadata": {},
          "execution_count": 28
        }
      ]
    },
    {
      "cell_type": "code",
      "source": [
        "corpus[0]"
      ],
      "metadata": {
        "colab": {
          "base_uri": "https://localhost:8080/",
          "height": 35
        },
        "id": "jPqmnVQ8IhNL",
        "outputId": "7ae30c76-4c0d-43d6-bf43-391f592ecc06"
      },
      "execution_count": 29,
      "outputs": [
        {
          "output_type": "execute_result",
          "data": {
            "text/plain": [
              "'narendra damodardas modi born september indian politician served prime minister india since'"
            ],
            "application/vnd.google.colaboratory.intrinsic+json": {
              "type": "string"
            }
          },
          "metadata": {},
          "execution_count": 29
        }
      ]
    },
    {
      "cell_type": "code",
      "source": [
        "X[0].toarray()"
      ],
      "metadata": {
        "colab": {
          "base_uri": "https://localhost:8080/"
        },
        "id": "4cxHDbdRIouz",
        "outputId": "29237143-6018-4698-e43c-58ccec1c47c8"
      },
      "execution_count": 30,
      "outputs": [
        {
          "output_type": "execute_result",
          "data": {
            "text/plain": [
              "array([[0, 0, 0, 0, 0, 0, 0, 0, 0, 0, 0, 0, 0, 0, 0, 0, 0, 0, 0, 0, 0, 0,\n",
              "        0, 0, 0, 0, 0, 0, 0, 1, 1, 0, 0, 0, 0, 0, 0, 0, 0, 0, 0, 0, 0, 0,\n",
              "        0, 0, 0, 0, 1, 1, 0, 0, 0, 0, 0, 0, 0, 0, 0, 0, 0, 0, 0, 0, 0, 0,\n",
              "        0, 0, 0, 0, 0, 0, 0, 0, 0, 0, 0, 0, 0, 0, 0, 0, 0, 0, 0, 0, 0, 0,\n",
              "        0, 0, 0, 0, 0, 0, 0, 0, 0, 0, 1, 0, 0, 1, 1, 0, 0, 0, 0, 0, 0, 0,\n",
              "        0, 0, 0, 0, 0, 0, 0, 0, 0, 0, 0, 0, 0, 0, 0, 0, 0, 0, 0, 1, 1, 0,\n",
              "        0, 0, 0, 1, 0, 1, 0, 0, 0, 0, 0, 0, 1, 1, 0, 0, 0, 0, 0, 0, 0, 0,\n",
              "        0, 0, 0, 0, 0, 0, 0, 0, 0, 0, 1, 1, 0, 0, 0, 0, 1, 1, 0, 0, 0, 0,\n",
              "        0, 0, 0, 0, 0, 0, 0, 0, 0, 0, 0, 0, 0, 0, 0, 0, 0, 0, 0, 0, 0, 1,\n",
              "        1, 1, 1, 0, 0, 0, 0, 0, 0, 0, 0, 0, 0, 0, 0, 0, 0, 0, 0, 0, 0, 0,\n",
              "        0, 0, 0, 0, 0, 0, 0, 0]])"
            ]
          },
          "metadata": {},
          "execution_count": 30
        }
      ]
    },
    {
      "cell_type": "code",
      "source": [
        "from sklearn.feature_extraction.text import TfidfVectorizer\n",
        "cv=TfidfVectorizer()"
      ],
      "metadata": {
        "id": "UTeTMDwcREPM"
      },
      "execution_count": 31,
      "outputs": []
    },
    {
      "cell_type": "code",
      "source": [
        "X = cv.fit_transform(corpus)"
      ],
      "metadata": {
        "id": "CJErsSQAeJs5"
      },
      "execution_count": 32,
      "outputs": []
    },
    {
      "cell_type": "code",
      "source": [
        "corpus[0]"
      ],
      "metadata": {
        "colab": {
          "base_uri": "https://localhost:8080/",
          "height": 35
        },
        "id": "_6-6XeGSeRIo",
        "outputId": "1a66a0de-ff09-4cd7-e7c7-6375461f8053"
      },
      "execution_count": 33,
      "outputs": [
        {
          "output_type": "execute_result",
          "data": {
            "text/plain": [
              "'narendra damodardas modi born september indian politician served prime minister india since'"
            ],
            "application/vnd.google.colaboratory.intrinsic+json": {
              "type": "string"
            }
          },
          "metadata": {},
          "execution_count": 33
        }
      ]
    },
    {
      "cell_type": "code",
      "source": [
        "X[0]"
      ],
      "metadata": {
        "colab": {
          "base_uri": "https://localhost:8080/"
        },
        "id": "8Byqp_1GeXlA",
        "outputId": "b4c9e9d5-5656-4f18-e979-38964039d49b"
      },
      "execution_count": 34,
      "outputs": [
        {
          "output_type": "execute_result",
          "data": {
            "text/plain": [
              "<Compressed Sparse Row sparse matrix of dtype 'float64'\n",
              "\twith 12 stored elements and shape (1, 105)>"
            ]
          },
          "metadata": {},
          "execution_count": 34
        }
      ]
    },
    {
      "cell_type": "code",
      "source": [
        "X[0].toarray()"
      ],
      "metadata": {
        "colab": {
          "base_uri": "https://localhost:8080/"
        },
        "id": "R8q3jbqMeZUv",
        "outputId": "a81f4f46-770e-4ac8-c806-d2605265f7f1"
      },
      "execution_count": 35,
      "outputs": [
        {
          "output_type": "execute_result",
          "data": {
            "text/plain": [
              "array([[0.        , 0.        , 0.        , 0.        , 0.        ,\n",
              "        0.        , 0.        , 0.        , 0.        , 0.        ,\n",
              "        0.27487551, 0.        , 0.        , 0.        , 0.        ,\n",
              "        0.        , 0.        , 0.        , 0.        , 0.        ,\n",
              "        0.31874673, 0.        , 0.        , 0.        , 0.        ,\n",
              "        0.        , 0.        , 0.        , 0.        , 0.        ,\n",
              "        0.        , 0.        , 0.        , 0.        , 0.        ,\n",
              "        0.        , 0.        , 0.        , 0.        , 0.        ,\n",
              "        0.        , 0.        , 0.27487551, 0.27487551, 0.        ,\n",
              "        0.        , 0.        , 0.        , 0.        , 0.        ,\n",
              "        0.        , 0.        , 0.        , 0.        , 0.19987716,\n",
              "        0.21960431, 0.        , 0.        , 0.        , 0.31874673,\n",
              "        0.        , 0.        , 0.        , 0.        , 0.        ,\n",
              "        0.        , 0.        , 0.        , 0.        , 0.31874673,\n",
              "        0.        , 0.        , 0.27487551, 0.        , 0.        ,\n",
              "        0.        , 0.        , 0.        , 0.        , 0.        ,\n",
              "        0.        , 0.        , 0.        , 0.        , 0.        ,\n",
              "        0.        , 0.31874673, 0.31874673, 0.        , 0.        ,\n",
              "        0.31874673, 0.        , 0.        , 0.        , 0.        ,\n",
              "        0.        , 0.        , 0.        , 0.        , 0.        ,\n",
              "        0.        , 0.        , 0.        , 0.        , 0.        ]])"
            ]
          },
          "metadata": {},
          "execution_count": 35
        }
      ]
    },
    {
      "cell_type": "code",
      "source": [],
      "metadata": {
        "id": "FqBkBVgJlFtn"
      },
      "execution_count": 35,
      "outputs": []
    }
  ]
}