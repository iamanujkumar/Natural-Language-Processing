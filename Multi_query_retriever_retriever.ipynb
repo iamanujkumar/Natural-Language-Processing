{
  "nbformat": 4,
  "nbformat_minor": 0,
  "metadata": {
    "colab": {
      "provenance": [],
      "authorship_tag": "ABX9TyMnEqN/8CQfIB+gRDBi7Dqi",
      "include_colab_link": true
    },
    "kernelspec": {
      "name": "python3",
      "display_name": "Python 3"
    },
    "language_info": {
      "name": "python"
    }
  },
  "cells": [
    {
      "cell_type": "markdown",
      "metadata": {
        "id": "view-in-github",
        "colab_type": "text"
      },
      "source": [
        "<a href=\"https://colab.research.google.com/github/iamanujkumar/Natural-Language-Processing/blob/main/Multi_query_retriever_retriever.ipynb\" target=\"_parent\"><img src=\"https://colab.research.google.com/assets/colab-badge.svg\" alt=\"Open In Colab\"/></a>"
      ]
    },
    {
      "cell_type": "code",
      "source": [
        "from langchain_community.vectorstores import Chroma\n",
        "from langchain_core.documents import Document\n",
        "from langchain_huggingface import HuggingFaceEndpointEmbeddings"
      ],
      "metadata": {
        "id": "IsCAYJEj2ghM"
      },
      "execution_count": 5,
      "outputs": []
    },
    {
      "cell_type": "code",
      "source": [
        "docs = [\n",
        "    Document(page_content=\"Artificial intelligence is transforming industries worldwide.\"),\n",
        "    Document(page_content=\"Machine learning models are being applied in healthcare, finance, and education.\"),\n",
        "    Document(page_content=\"Deep learning techniques have enabled breakthroughs in computer vision and natural language processing.\"),\n",
        "    Document(page_content=\"Despite progress, challenges like bias, transparency, and data privacy remain critical.\"),\n",
        "    Document(page_content=\"AI-driven automation is reshaping the future of work and productivity.\"),\n",
        "    Document(page_content=\"Governments are creating policies to ensure ethical and responsible AI development.\"),\n",
        "    Document(page_content=\"Collaboration between academia, industry, and policymakers is essential for sustainable AI growth.\"),\n",
        "    Document(page_content=\"Renewable energy technologies are gaining momentum to combat climate change.\"),\n",
        "    Document(page_content=\"Solar and wind power are becoming cost-effective alternatives to fossil fuels.\"),\n",
        "    Document(page_content=\"Electric vehicles are reducing dependence on non-renewable energy sources.\"),\n",
        "    Document(page_content=\"Sustainable agriculture practices help conserve water and maintain soil health.\"),\n",
        "    Document(page_content=\"Global warming continues to pose risks to ecosystems and human societies.\")\n",
        "]"
      ],
      "metadata": {
        "id": "UV-cJxwM2inU"
      },
      "execution_count": 28,
      "outputs": []
    },
    {
      "cell_type": "code",
      "source": [
        "from google.colab import userdata\n",
        "import os\n",
        "\n",
        "os.environ[\"HUGGINGFACEHUB_API_TOKEN\"] = userdata.get(\"HUGGINGFACEHUB_API_TOKEN\")\n",
        "\n",
        "embedding_model = HuggingFaceEndpointEmbeddings(\n",
        "    repo_id=\"sentence-transformers/all-MiniLM-L6-v2\",\n",
        ")"
      ],
      "metadata": {
        "id": "LIJAwRCt26Cs"
      },
      "execution_count": 11,
      "outputs": []
    },
    {
      "cell_type": "code",
      "source": [
        "vectorstore = Chroma.from_documents(\n",
        "    documents = documents,\n",
        "    embedding = embedding_model,\n",
        "    collection_name='my_collection'\n",
        ")"
      ],
      "metadata": {
        "id": "dbSnZqTW28xF"
      },
      "execution_count": 29,
      "outputs": []
    },
    {
      "cell_type": "code",
      "source": [
        "similarity_retriever = vectorstore.as_retriever(\n",
        "    search_type='similarity',\n",
        "    search_kwargs={\"k\": 5}\n",
        ")"
      ],
      "metadata": {
        "id": "-zLyxbED3thz"
      },
      "execution_count": 30,
      "outputs": []
    },
    {
      "cell_type": "code",
      "source": [
        "from langchain.retrievers import MultiQueryRetriever\n",
        "from langchain_huggingface import HuggingFaceEndpoint"
      ],
      "metadata": {
        "id": "jnFGtz8W-Mis"
      },
      "execution_count": 61,
      "outputs": []
    },
    {
      "cell_type": "code",
      "metadata": {
        "id": "d3e9dc51"
      },
      "source": [
        "from langchain_groq import ChatGroq\n",
        "from langchain.retrievers import MultiQueryRetriever\n",
        "from google.colab import userdata\n",
        "\n",
        "multiquery_retriever = MultiQueryRetriever.from_llm(\n",
        "    retriever = vectorstore.as_retriever(search_kwargs={\"k\":5}),\n",
        "    llm = ChatGroq(\n",
        "    groq_api_key=userdata.get(\"GROQ_API_KEY\"),\n",
        "    model=\"llama-3.1-8b-instant\",\n",
        "    temperature=0,\n",
        "    )\n",
        ")"
      ],
      "execution_count": 65,
      "outputs": []
    },
    {
      "cell_type": "code",
      "source": [
        "query = \"What are the current applications and challenges of artificial intelligence?\""
      ],
      "metadata": {
        "id": "LKui0__0310y"
      },
      "execution_count": 66,
      "outputs": []
    },
    {
      "cell_type": "code",
      "source": [
        "result = multiquery_retriever.invoke(query)\n",
        "result"
      ],
      "metadata": {
        "colab": {
          "base_uri": "https://localhost:8080/"
        },
        "id": "29IRUYuX38br",
        "outputId": "3267503a-5ec8-436f-de1b-fd28d0201c48"
      },
      "execution_count": 67,
      "outputs": [
        {
          "output_type": "execute_result",
          "data": {
            "text/plain": [
              "[Document(metadata={}, page_content='Machine learning models are being applied in healthcare, finance, and education.'),\n",
              " Document(metadata={}, page_content='Deep learning techniques have enabled breakthroughs in computer vision and natural language processing.'),\n",
              " Document(metadata={}, page_content='AI-driven automation is reshaping the future of work and productivity.'),\n",
              " Document(metadata={}, page_content='Artificial intelligence is transforming industries worldwide.'),\n",
              " Document(metadata={}, page_content='Governments are creating policies to ensure ethical and responsible AI development.'),\n",
              " Document(metadata={}, page_content='Collaboration between academia, industry, and policymakers is essential for sustainable AI growth.')]"
            ]
          },
          "metadata": {},
          "execution_count": 67
        }
      ]
    },
    {
      "cell_type": "code",
      "source": [
        "retriever = vectorstore.as_retriever(\n",
        "    search_type='mmr',\n",
        "    search_kwargs={\"k\": 2, \"lambda_mult\":0.5}\n",
        ")"
      ],
      "metadata": {
        "id": "KJXD9Sm84RO9"
      },
      "execution_count": 68,
      "outputs": []
    },
    {
      "cell_type": "code",
      "source": [
        "result = retriever.invoke(query)\n",
        "result"
      ],
      "metadata": {
        "colab": {
          "base_uri": "https://localhost:8080/"
        },
        "id": "7j-CYb-q4qUi",
        "outputId": "c4cd7348-510b-45a4-ad6e-e374856d68db"
      },
      "execution_count": 69,
      "outputs": [
        {
          "output_type": "execute_result",
          "data": {
            "text/plain": [
              "[Document(metadata={}, page_content='Artificial intelligence is transforming industries worldwide.'),\n",
              " Document(metadata={}, page_content='Despite progress, challenges like bias, transparency, and data privacy remain critical.')]"
            ]
          },
          "metadata": {},
          "execution_count": 69
        }
      ]
    }
  ]
}