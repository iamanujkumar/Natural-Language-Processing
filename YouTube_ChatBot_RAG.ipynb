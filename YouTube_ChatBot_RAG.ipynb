{
  "cells": [
    {
      "cell_type": "markdown",
      "metadata": {
        "id": "view-in-github",
        "colab_type": "text"
      },
      "source": [
        "<a href=\"https://colab.research.google.com/github/iamanujkumar/Natural-Language-Processing/blob/main/YouTube_ChatBot_RAG.ipynb\" target=\"_parent\"><img src=\"https://colab.research.google.com/assets/colab-badge.svg\" alt=\"Open In Colab\"/></a>"
      ]
    },
    {
      "cell_type": "code",
      "source": [
        "!pip install langchain-huggingface"
      ],
      "metadata": {
        "colab": {
          "base_uri": "https://localhost:8080/"
        },
        "id": "poHAxQkRh5n-",
        "outputId": "58944498-895f-4e3b-d482-b8d0cad21b1b"
      },
      "execution_count": null,
      "outputs": [
        {
          "output_type": "stream",
          "name": "stdout",
          "text": [
            "Collecting langchain-huggingface\n",
            "  Downloading langchain_huggingface-0.3.1-py3-none-any.whl.metadata (996 bytes)\n",
            "Requirement already satisfied: langchain-core<1.0.0,>=0.3.70 in /usr/local/lib/python3.12/dist-packages (from langchain-huggingface) (0.3.76)\n",
            "Requirement already satisfied: tokenizers>=0.19.1 in /usr/local/lib/python3.12/dist-packages (from langchain-huggingface) (0.22.0)\n",
            "Requirement already satisfied: huggingface-hub>=0.33.4 in /usr/local/lib/python3.12/dist-packages (from langchain-huggingface) (0.34.4)\n",
            "Requirement already satisfied: filelock in /usr/local/lib/python3.12/dist-packages (from huggingface-hub>=0.33.4->langchain-huggingface) (3.19.1)\n",
            "Requirement already satisfied: fsspec>=2023.5.0 in /usr/local/lib/python3.12/dist-packages (from huggingface-hub>=0.33.4->langchain-huggingface) (2025.3.0)\n",
            "Requirement already satisfied: packaging>=20.9 in /usr/local/lib/python3.12/dist-packages (from huggingface-hub>=0.33.4->langchain-huggingface) (25.0)\n",
            "Requirement already satisfied: pyyaml>=5.1 in /usr/local/lib/python3.12/dist-packages (from huggingface-hub>=0.33.4->langchain-huggingface) (6.0.2)\n",
            "Requirement already satisfied: requests in /usr/local/lib/python3.12/dist-packages (from huggingface-hub>=0.33.4->langchain-huggingface) (2.32.5)\n",
            "Requirement already satisfied: tqdm>=4.42.1 in /usr/local/lib/python3.12/dist-packages (from huggingface-hub>=0.33.4->langchain-huggingface) (4.67.1)\n",
            "Requirement already satisfied: typing-extensions>=3.7.4.3 in /usr/local/lib/python3.12/dist-packages (from huggingface-hub>=0.33.4->langchain-huggingface) (4.15.0)\n",
            "Requirement already satisfied: hf-xet<2.0.0,>=1.1.3 in /usr/local/lib/python3.12/dist-packages (from huggingface-hub>=0.33.4->langchain-huggingface) (1.1.9)\n",
            "Requirement already satisfied: langsmith>=0.3.45 in /usr/local/lib/python3.12/dist-packages (from langchain-core<1.0.0,>=0.3.70->langchain-huggingface) (0.4.27)\n",
            "Requirement already satisfied: tenacity!=8.4.0,<10.0.0,>=8.1.0 in /usr/local/lib/python3.12/dist-packages (from langchain-core<1.0.0,>=0.3.70->langchain-huggingface) (8.5.0)\n",
            "Requirement already satisfied: jsonpatch<2.0,>=1.33 in /usr/local/lib/python3.12/dist-packages (from langchain-core<1.0.0,>=0.3.70->langchain-huggingface) (1.33)\n",
            "Requirement already satisfied: pydantic>=2.7.4 in /usr/local/lib/python3.12/dist-packages (from langchain-core<1.0.0,>=0.3.70->langchain-huggingface) (2.11.7)\n",
            "Requirement already satisfied: jsonpointer>=1.9 in /usr/local/lib/python3.12/dist-packages (from jsonpatch<2.0,>=1.33->langchain-core<1.0.0,>=0.3.70->langchain-huggingface) (3.0.0)\n",
            "Requirement already satisfied: httpx<1,>=0.23.0 in /usr/local/lib/python3.12/dist-packages (from langsmith>=0.3.45->langchain-core<1.0.0,>=0.3.70->langchain-huggingface) (0.28.1)\n",
            "Requirement already satisfied: orjson>=3.9.14 in /usr/local/lib/python3.12/dist-packages (from langsmith>=0.3.45->langchain-core<1.0.0,>=0.3.70->langchain-huggingface) (3.11.3)\n",
            "Requirement already satisfied: requests-toolbelt>=1.0.0 in /usr/local/lib/python3.12/dist-packages (from langsmith>=0.3.45->langchain-core<1.0.0,>=0.3.70->langchain-huggingface) (1.0.0)\n",
            "Requirement already satisfied: zstandard>=0.23.0 in /usr/local/lib/python3.12/dist-packages (from langsmith>=0.3.45->langchain-core<1.0.0,>=0.3.70->langchain-huggingface) (0.24.0)\n",
            "Requirement already satisfied: annotated-types>=0.6.0 in /usr/local/lib/python3.12/dist-packages (from pydantic>=2.7.4->langchain-core<1.0.0,>=0.3.70->langchain-huggingface) (0.7.0)\n",
            "Requirement already satisfied: pydantic-core==2.33.2 in /usr/local/lib/python3.12/dist-packages (from pydantic>=2.7.4->langchain-core<1.0.0,>=0.3.70->langchain-huggingface) (2.33.2)\n",
            "Requirement already satisfied: typing-inspection>=0.4.0 in /usr/local/lib/python3.12/dist-packages (from pydantic>=2.7.4->langchain-core<1.0.0,>=0.3.70->langchain-huggingface) (0.4.1)\n",
            "Requirement already satisfied: charset_normalizer<4,>=2 in /usr/local/lib/python3.12/dist-packages (from requests->huggingface-hub>=0.33.4->langchain-huggingface) (3.4.3)\n",
            "Requirement already satisfied: idna<4,>=2.5 in /usr/local/lib/python3.12/dist-packages (from requests->huggingface-hub>=0.33.4->langchain-huggingface) (3.10)\n",
            "Requirement already satisfied: urllib3<3,>=1.21.1 in /usr/local/lib/python3.12/dist-packages (from requests->huggingface-hub>=0.33.4->langchain-huggingface) (2.5.0)\n",
            "Requirement already satisfied: certifi>=2017.4.17 in /usr/local/lib/python3.12/dist-packages (from requests->huggingface-hub>=0.33.4->langchain-huggingface) (2025.8.3)\n",
            "Requirement already satisfied: anyio in /usr/local/lib/python3.12/dist-packages (from httpx<1,>=0.23.0->langsmith>=0.3.45->langchain-core<1.0.0,>=0.3.70->langchain-huggingface) (4.10.0)\n",
            "Requirement already satisfied: httpcore==1.* in /usr/local/lib/python3.12/dist-packages (from httpx<1,>=0.23.0->langsmith>=0.3.45->langchain-core<1.0.0,>=0.3.70->langchain-huggingface) (1.0.9)\n",
            "Requirement already satisfied: h11>=0.16 in /usr/local/lib/python3.12/dist-packages (from httpcore==1.*->httpx<1,>=0.23.0->langsmith>=0.3.45->langchain-core<1.0.0,>=0.3.70->langchain-huggingface) (0.16.0)\n",
            "Requirement already satisfied: sniffio>=1.1 in /usr/local/lib/python3.12/dist-packages (from anyio->httpx<1,>=0.23.0->langsmith>=0.3.45->langchain-core<1.0.0,>=0.3.70->langchain-huggingface) (1.3.1)\n",
            "Downloading langchain_huggingface-0.3.1-py3-none-any.whl (27 kB)\n",
            "Installing collected packages: langchain-huggingface\n",
            "Successfully installed langchain-huggingface-0.3.1\n"
          ]
        }
      ]
    },
    {
      "cell_type": "code",
      "source": [
        "from langchain_huggingface import HuggingFaceEndpointEmbeddings"
      ],
      "metadata": {
        "id": "dvbubV4oh0jv"
      },
      "execution_count": null,
      "outputs": []
    },
    {
      "cell_type": "code",
      "execution_count": null,
      "metadata": {
        "id": "HDXTExVAQYsL"
      },
      "outputs": [],
      "source": [
        "import os\n",
        "from google.colab import userdata"
      ]
    },
    {
      "cell_type": "markdown",
      "metadata": {
        "id": "HYCmev_nUaG1"
      },
      "source": [
        "**Indexing**"
      ]
    },
    {
      "cell_type": "code",
      "source": [
        "!pip install -q youtube-transcript-api langchain-community langchain-openai \\\n",
        "               faiss-cpu tiktoken python-dotenv"
      ],
      "metadata": {
        "colab": {
          "base_uri": "https://localhost:8080/"
        },
        "id": "FEQJ13qaZcRX",
        "outputId": "91a0f010-286d-4805-cb33-03db914e0858"
      },
      "execution_count": null,
      "outputs": [
        {
          "output_type": "stream",
          "name": "stdout",
          "text": [
            "\u001b[2K   \u001b[90m━━━━━━━━━━━━━━━━━━━━━━━━━━━━━━━━━━━━━━━━\u001b[0m \u001b[32m75.0/75.0 kB\u001b[0m \u001b[31m1.8 MB/s\u001b[0m eta \u001b[36m0:00:00\u001b[0m\n",
            "\u001b[2K   \u001b[90m━━━━━━━━━━━━━━━━━━━━━━━━━━━━━━━━━━━━━━━━\u001b[0m \u001b[32m447.5/447.5 kB\u001b[0m \u001b[31m8.6 MB/s\u001b[0m eta \u001b[36m0:00:00\u001b[0m\n",
            "\u001b[?25h"
          ]
        }
      ]
    },
    {
      "cell_type": "code",
      "source": [
        "from youtube_transcript_api import YouTubeTranscriptApi, TranscriptsDisabled\n",
        "from langchain.text_splitter import RecursiveCharacterTextSplitter\n",
        "from langchain_openai import OpenAIEmbeddings, ChatOpenAI\n",
        "from langchain_community.vectorstores import FAISS\n",
        "from langchain_core.prompts import PromptTemplate"
      ],
      "metadata": {
        "id": "vtYh5XanZjgf"
      },
      "execution_count": null,
      "outputs": []
    },
    {
      "cell_type": "code",
      "source": [
        "pip install youtube-transcript-api"
      ],
      "metadata": {
        "colab": {
          "base_uri": "https://localhost:8080/"
        },
        "id": "vxhT4X4SZ_Xm",
        "outputId": "43e7d977-640d-4901-efe1-491eea40bf0b"
      },
      "execution_count": null,
      "outputs": [
        {
          "output_type": "stream",
          "name": "stdout",
          "text": [
            "Requirement already satisfied: youtube-transcript-api in /usr/local/lib/python3.12/dist-packages (1.2.2)\n",
            "Requirement already satisfied: defusedxml<0.8.0,>=0.7.1 in /usr/local/lib/python3.12/dist-packages (from youtube-transcript-api) (0.7.1)\n",
            "Requirement already satisfied: requests in /usr/local/lib/python3.12/dist-packages (from youtube-transcript-api) (2.32.5)\n",
            "Requirement already satisfied: charset_normalizer<4,>=2 in /usr/local/lib/python3.12/dist-packages (from requests->youtube-transcript-api) (3.4.3)\n",
            "Requirement already satisfied: idna<4,>=2.5 in /usr/local/lib/python3.12/dist-packages (from requests->youtube-transcript-api) (3.10)\n",
            "Requirement already satisfied: urllib3<3,>=1.21.1 in /usr/local/lib/python3.12/dist-packages (from requests->youtube-transcript-api) (2.5.0)\n",
            "Requirement already satisfied: certifi>=2017.4.17 in /usr/local/lib/python3.12/dist-packages (from requests->youtube-transcript-api) (2025.8.3)\n"
          ]
        }
      ]
    },
    {
      "cell_type": "code",
      "source": [
        "ytt_api = YouTubeTranscriptApi()\n",
        "fetched_transcript = ytt_api.fetch(video_id)\n",
        "for snippet in fetched_transcript:\n",
        "    print(snippet.text)\n",
        "\n",
        "last_snippet = fetched_transcript[-1]\n",
        "\n",
        "snippet_count = len(fetched_transcript)"
      ],
      "metadata": {
        "colab": {
          "base_uri": "https://localhost:8080/"
        },
        "id": "Vk_Bg8vZbxj2",
        "outputId": "9a628dab-44b3-408e-b5db-8c4759c6f3cb"
      },
      "execution_count": null,
      "outputs": [
        {
          "output_type": "stream",
          "name": "stdout",
          "text": [
            "Imagine you happen across a short movie script that\n",
            "describes a scene between a person and their AI assistant.\n",
            "The script has what the person asks the AI, but the AI's response has been torn off.\n",
            "Suppose you also have this powerful magical machine that can take\n",
            "any text and provide a sensible prediction of what word comes next.\n",
            "You could then finish the script by feeding in what you have to the machine,\n",
            "seeing what it would predict to start the AI's answer,\n",
            "and then repeating this over and over with a growing script completing the dialogue.\n",
            "When you interact with a chatbot, this is exactly what's happening.\n",
            "A large language model is a sophisticated mathematical function\n",
            "that predicts what word comes next for any piece of text.\n",
            "Instead of predicting one word with certainty, though,\n",
            "what it does is assign a probability to all possible next words.\n",
            "To build a chatbot, you lay out some text that describes an interaction between a user\n",
            "and a hypothetical AI assistant, add on whatever the user types in as the first part of\n",
            "the interaction, and then have the model repeatedly predict the next word that such a\n",
            "hypothetical AI assistant would say in response, and that's what's presented to the user.\n",
            "In doing this, the output tends to look a lot more natural if\n",
            "you allow it to select less likely words along the way at random.\n",
            "So what this means is even though the model itself is deterministic,\n",
            "a given prompt typically gives a different answer each time it's run.\n",
            "Models learn how to make these predictions by processing an enormous amount of text,\n",
            "typically pulled from the internet.\n",
            "For a standard human to read the amount of text that was used to train GPT-3,\n",
            "for example, if they read non-stop 24-7, it would take over 2600 years.\n",
            "Larger models since then train on much, much more.\n",
            "You can think of training a little bit like tuning the dials on a big machine.\n",
            "The way that a language model behaves is entirely determined by these\n",
            "many different continuous values, usually called parameters or weights.\n",
            "Changing those parameters will change the probabilities\n",
            "that the model gives for the next word on a given input.\n",
            "What puts the large in large language model is how\n",
            "they can have hundreds of billions of these parameters.\n",
            "No human ever deliberately sets those parameters.\n",
            "Instead, they begin at random, meaning the model just outputs gibberish,\n",
            "but they're repeatedly refined based on many example pieces of text.\n",
            "One of these training examples could be just a handful of words,\n",
            "or it could be thousands, but in either case, the way this works is to\n",
            "pass in all but the last word from that example into the model and\n",
            "compare the prediction that it makes with the true last word from the example.\n",
            "An algorithm called backpropagation is used to tweak all of the parameters\n",
            "in such a way that it makes the model a little more likely to choose\n",
            "the true last word and a little less likely to choose all the others.\n",
            "When you do this for many, many trillions of examples,\n",
            "not only does the model start to give more accurate predictions on the training data,\n",
            "but it also starts to make more reasonable predictions on text that it's never\n",
            "seen before.\n",
            "Given the huge number of parameters and the enormous amount of training data,\n",
            "the scale of computation involved in training a large language model is mind-boggling.\n",
            "To illustrate, imagine that you could perform one\n",
            "billion additions and multiplications every single second.\n",
            "How long do you think it would take for you to do all of the\n",
            "operations involved in training the largest language models?\n",
            "Do you think it would take a year?\n",
            "Maybe something like 10,000 years?\n",
            "The answer is actually much more than that.\n",
            "It's well over 100 million years.\n",
            "This is only part of the story, though.\n",
            "This whole process is called pre-training.\n",
            "The goal of auto-completing a random passage of text from the\n",
            "internet is very different from the goal of being a good AI assistant.\n",
            "To address this, chatbots undergo another type of training,\n",
            "just as important, called reinforcement learning with human feedback.\n",
            "Workers flag unhelpful or problematic predictions,\n",
            "and their corrections further change the model's parameters,\n",
            "making them more likely to give predictions that users prefer.\n",
            "Looking back at the pre-training, though, this staggering amount of\n",
            "computation is only made possible by using special computer chips that\n",
            "are optimized for running many operations in parallel, known as GPUs.\n",
            "However, not all language models can be easily parallelized.\n",
            "Prior to 2017, most language models would process text one word at a time,\n",
            "but then a team of researchers at Google introduced a new model known as the transformer.\n",
            "Transformers don't read text from the start to the finish,\n",
            "they soak it all in at once, in parallel.\n",
            "The very first step inside a transformer, and most other language models for that matter,\n",
            "is to associate each word with a long list of numbers.\n",
            "The reason for this is that the training process only works with continuous values,\n",
            "so you have to somehow encode language using numbers,\n",
            "and each of these lists of numbers may somehow encode the meaning of the\n",
            "corresponding word.\n",
            "What makes transformers unique is their reliance\n",
            "on a special operation known as attention.\n",
            "This operation gives all of these lists of numbers a chance to talk to one another\n",
            "and refine the meanings they encode based on the context around, all done in parallel.\n",
            "For example, the numbers encoding the word bank might be changed based on the\n",
            "context surrounding it to somehow encode the more specific notion of a riverbank.\n",
            "Transformers typically also include a second type of operation known\n",
            "as a feed-forward neural network, and this gives the model extra\n",
            "capacity to store more patterns about language learned during training.\n",
            "All of this data repeatedly flows through many different iterations of\n",
            "these two fundamental operations, and as it does so,\n",
            "the hope is that each list of numbers is enriched to encode whatever\n",
            "information might be needed to make an accurate prediction of what word\n",
            "follows in the passage.\n",
            "At the end, one final function is performed on the last vector in this sequence,\n",
            "which now has had a chance to be influenced by all the other context from the input text,\n",
            "as well as everything the model learned during training,\n",
            "to produce a prediction of the next word.\n",
            "Again, the model's prediction looks like a probability for every possible next word.\n",
            "Although researchers design the framework for how each of these steps work,\n",
            "it's important to understand that the specific behavior is an emergent phenomenon\n",
            "based on how those hundreds of billions of parameters are tuned during training.\n",
            "This makes it incredibly challenging to determine\n",
            "why the model makes the exact predictions that it does.\n",
            "What you can see is that when you use large language model predictions to autocomplete\n",
            "a prompt, the words that it generates are uncannily fluent, fascinating, and even useful.\n",
            "If you're a new viewer and you're curious about more details on how\n",
            "transformers and attention work, boy do I have some material for you.\n",
            "One option is to jump into a series I made about deep learning,\n",
            "where we visualize and motivate the details of attention and all the other steps\n",
            "in a transformer.\n",
            "Also, on my second channel I just posted a talk I gave a couple\n",
            "months ago about this topic for the company TNG in Munich.\n",
            "Sometimes I actually prefer the content I make as a casual talk rather than a produced\n",
            "video, but I leave it up to you which one of these feels like the better follow-on.\n"
          ]
        }
      ]
    },
    {
      "cell_type": "code",
      "source": [
        "fetched_transcript"
      ],
      "metadata": {
        "colab": {
          "base_uri": "https://localhost:8080/"
        },
        "id": "6INXRHKXd1Bv",
        "outputId": "8d39554a-78b5-44c8-8f99-eff0c24311a3"
      },
      "execution_count": null,
      "outputs": [
        {
          "output_type": "execute_result",
          "data": {
            "text/plain": [
              "FetchedTranscript(snippets=[FetchedTranscriptSnippet(text='Imagine you happen across a short movie script that', start=1.14, duration=2.836), FetchedTranscriptSnippet(text='describes a scene between a person and their AI assistant.', start=3.976, duration=3.164), FetchedTranscriptSnippet(text=\"The script has what the person asks the AI, but the AI's response has been torn off.\", start=7.48, duration=5.58), FetchedTranscriptSnippet(text='Suppose you also have this powerful magical machine that can take', start=13.06, duration=3.92), FetchedTranscriptSnippet(text='any text and provide a sensible prediction of what word comes next.', start=16.98, duration=3.98), FetchedTranscriptSnippet(text='You could then finish the script by feeding in what you have to the machine,', start=21.5, duration=4.006), FetchedTranscriptSnippet(text=\"seeing what it would predict to start the AI's answer,\", start=25.506, duration=2.862), FetchedTranscriptSnippet(text='and then repeating this over and over with a growing script completing the dialogue.', start=28.368, duration=4.372), FetchedTranscriptSnippet(text=\"When you interact with a chatbot, this is exactly what's happening.\", start=33.38, duration=3.1), FetchedTranscriptSnippet(text='A large language model is a sophisticated mathematical function', start=37.02, duration=3.681), FetchedTranscriptSnippet(text='that predicts what word comes next for any piece of text.', start=40.701, duration=3.279), FetchedTranscriptSnippet(text='Instead of predicting one word with certainty, though,', start=44.38, duration=3.022), FetchedTranscriptSnippet(text='what it does is assign a probability to all possible next words.', start=47.402, duration=3.518), FetchedTranscriptSnippet(text='To build a chatbot, you lay out some text that describes an interaction between a user', start=51.62, duration=5.18), FetchedTranscriptSnippet(text='and a hypothetical AI assistant, add on whatever the user types in as the first part of', start=56.8, duration=5.24), FetchedTranscriptSnippet(text='the interaction, and then have the model repeatedly predict the next word that such a', start=62.04, duration=5.12), FetchedTranscriptSnippet(text=\"hypothetical AI assistant would say in response, and that's what's presented to the user.\", start=67.16, duration=5.3), FetchedTranscriptSnippet(text='In doing this, the output tends to look a lot more natural if', start=73.08, duration=3.134), FetchedTranscriptSnippet(text='you allow it to select less likely words along the way at random.', start=76.214, duration=3.286), FetchedTranscriptSnippet(text='So what this means is even though the model itself is deterministic,', start=80.14, duration=3.48), FetchedTranscriptSnippet(text=\"a given prompt typically gives a different answer each time it's run.\", start=83.62, duration=3.48), FetchedTranscriptSnippet(text='Models learn how to make these predictions by processing an enormous amount of text,', start=88.04, duration=4.292), FetchedTranscriptSnippet(text='typically pulled from the internet.', start=92.332, duration=1.768), FetchedTranscriptSnippet(text='For a standard human to read the amount of text that was used to train GPT-3,', start=94.1, duration=5.371), FetchedTranscriptSnippet(text='for example, if they read non-stop 24-7, it would take over 2600 years.', start=99.471, duration=4.889), FetchedTranscriptSnippet(text='Larger models since then train on much, much more.', start=104.72, duration=2.62), FetchedTranscriptSnippet(text='You can think of training a little bit like tuning the dials on a big machine.', start=108.2, duration=3.58), FetchedTranscriptSnippet(text='The way that a language model behaves is entirely determined by these', start=112.28, duration=4.021), FetchedTranscriptSnippet(text='many different continuous values, usually called parameters or weights.', start=116.301, duration=4.079), FetchedTranscriptSnippet(text='Changing those parameters will change the probabilities', start=121.02, duration=3.079), FetchedTranscriptSnippet(text='that the model gives for the next word on a given input.', start=124.099, duration=3.081), FetchedTranscriptSnippet(text='What puts the large in large language model is how', start=127.86, duration=2.867), FetchedTranscriptSnippet(text='they can have hundreds of billions of these parameters.', start=130.727, duration=3.093), FetchedTranscriptSnippet(text='No human ever deliberately sets those parameters.', start=135.2, duration=2.84), FetchedTranscriptSnippet(text='Instead, they begin at random, meaning the model just outputs gibberish,', start=138.44, duration=4.203), FetchedTranscriptSnippet(text=\"but they're repeatedly refined based on many example pieces of text.\", start=142.643, duration=3.917), FetchedTranscriptSnippet(text='One of these training examples could be just a handful of words,', start=147.14, duration=3.516), FetchedTranscriptSnippet(text='or it could be thousands, but in either case, the way this works is to', start=150.656, duration=3.84), FetchedTranscriptSnippet(text='pass in all but the last word from that example into the model and', start=154.496, duration=3.624), FetchedTranscriptSnippet(text='compare the prediction that it makes with the true last word from the example.', start=158.12, duration=4.22), FetchedTranscriptSnippet(text='An algorithm called backpropagation is used to tweak all of the parameters', start=163.26, duration=4.133), FetchedTranscriptSnippet(text='in such a way that it makes the model a little more likely to choose', start=167.393, duration=3.803), FetchedTranscriptSnippet(text='the true last word and a little less likely to choose all the others.', start=171.196, duration=3.804), FetchedTranscriptSnippet(text='When you do this for many, many trillions of examples,', start=175.74, duration=3.01), FetchedTranscriptSnippet(text='not only does the model start to give more accurate predictions on the training data,', start=178.75, duration=4.708), FetchedTranscriptSnippet(text=\"but it also starts to make more reasonable predictions on text that it's never\", start=183.458, duration=4.325), FetchedTranscriptSnippet(text='seen before.', start=187.783, duration=0.657), FetchedTranscriptSnippet(text='Given the huge number of parameters and the enormous amount of training data,', start=189.42, duration=4.499), FetchedTranscriptSnippet(text='the scale of computation involved in training a large language model is mind-boggling.', start=193.919, duration=4.961), FetchedTranscriptSnippet(text='To illustrate, imagine that you could perform one', start=199.6, duration=2.685), FetchedTranscriptSnippet(text='billion additions and multiplications every single second.', start=202.285, duration=3.115), FetchedTranscriptSnippet(text='How long do you think it would take for you to do all of the', start=206.06, duration=3.266), FetchedTranscriptSnippet(text='operations involved in training the largest language models?', start=209.326, duration=3.214), FetchedTranscriptSnippet(text='Do you think it would take a year?', start=213.46, duration=1.579), FetchedTranscriptSnippet(text='Maybe something like 10,000 years?', start=216.039, duration=1.921), FetchedTranscriptSnippet(text='The answer is actually much more than that.', start=219.02, duration=1.78), FetchedTranscriptSnippet(text=\"It's well over 100 million years.\", start=221.12, duration=2.78), FetchedTranscriptSnippet(text='This is only part of the story, though.', start=225.52, duration=1.84), FetchedTranscriptSnippet(text='This whole process is called pre-training.', start=227.54, duration=1.68), FetchedTranscriptSnippet(text='The goal of auto-completing a random passage of text from the', start=229.5, duration=3.146), FetchedTranscriptSnippet(text='internet is very different from the goal of being a good AI assistant.', start=232.646, duration=3.554), FetchedTranscriptSnippet(text='To address this, chatbots undergo another type of training,', start=236.88, duration=3.2), FetchedTranscriptSnippet(text='just as important, called reinforcement learning with human feedback.', start=240.08, duration=3.68), FetchedTranscriptSnippet(text='Workers flag unhelpful or problematic predictions,', start=244.48, duration=3.018), FetchedTranscriptSnippet(text=\"and their corrections further change the model's parameters,\", start=247.498, duration=3.611), FetchedTranscriptSnippet(text='making them more likely to give predictions that users prefer.', start=251.109, duration=3.671), FetchedTranscriptSnippet(text='Looking back at the pre-training, though, this staggering amount of', start=254.78, duration=4.08), FetchedTranscriptSnippet(text='computation is only made possible by using special computer chips that', start=258.86, duration=4.26), FetchedTranscriptSnippet(text='are optimized for running many operations in parallel, known as GPUs.', start=263.12, duration=4.14), FetchedTranscriptSnippet(text='However, not all language models can be easily parallelized.', start=268.12, duration=3.5), FetchedTranscriptSnippet(text='Prior to 2017, most language models would process text one word at a time,', start=272.08, duration=4.737), FetchedTranscriptSnippet(text='but then a team of researchers at Google introduced a new model known as the transformer.', start=276.817, duration=5.623), FetchedTranscriptSnippet(text=\"Transformers don't read text from the start to the finish,\", start=283.3, duration=3.445), FetchedTranscriptSnippet(text='they soak it all in at once, in parallel.', start=286.745, duration=2.395), FetchedTranscriptSnippet(text='The very first step inside a transformer, and most other language models for that matter,', start=289.9, duration=4.7), FetchedTranscriptSnippet(text='is to associate each word with a long list of numbers.', start=294.6, duration=2.82), FetchedTranscriptSnippet(text='The reason for this is that the training process only works with continuous values,', start=297.86, duration=4.536), FetchedTranscriptSnippet(text='so you have to somehow encode language using numbers,', start=302.396, duration=2.916), FetchedTranscriptSnippet(text='and each of these lists of numbers may somehow encode the meaning of the', start=305.312, duration=3.942), FetchedTranscriptSnippet(text='corresponding word.', start=309.254, duration=1.026), FetchedTranscriptSnippet(text='What makes transformers unique is their reliance', start=310.28, duration=3.08), FetchedTranscriptSnippet(text='on a special operation known as attention.', start=313.36, duration=2.64), FetchedTranscriptSnippet(text='This operation gives all of these lists of numbers a chance to talk to one another', start=316.98, duration=4.704), FetchedTranscriptSnippet(text='and refine the meanings they encode based on the context around, all done in parallel.', start=321.684, duration=4.876), FetchedTranscriptSnippet(text='For example, the numbers encoding the word bank might be changed based on the', start=327.4, duration=4.307), FetchedTranscriptSnippet(text='context surrounding it to somehow encode the more specific notion of a riverbank.', start=331.707, duration=4.473), FetchedTranscriptSnippet(text='Transformers typically also include a second type of operation known', start=337.28, duration=3.749), FetchedTranscriptSnippet(text='as a feed-forward neural network, and this gives the model extra', start=341.029, duration=3.532), FetchedTranscriptSnippet(text='capacity to store more patterns about language learned during training.', start=344.561, duration=3.859), FetchedTranscriptSnippet(text='All of this data repeatedly flows through many different iterations of', start=349.28, duration=4.121), FetchedTranscriptSnippet(text='these two fundamental operations, and as it does so,', start=353.401, duration=3.077), FetchedTranscriptSnippet(text='the hope is that each list of numbers is enriched to encode whatever', start=356.478, duration=4.006), FetchedTranscriptSnippet(text='information might be needed to make an accurate prediction of what word', start=360.484, duration=4.18), FetchedTranscriptSnippet(text='follows in the passage.', start=364.664, duration=1.336), FetchedTranscriptSnippet(text='At the end, one final function is performed on the last vector in this sequence,', start=367.0, duration=4.534), FetchedTranscriptSnippet(text='which now has had a chance to be influenced by all the other context from the input text,', start=371.534, duration=5.039), FetchedTranscriptSnippet(text='as well as everything the model learned during training,', start=376.573, duration=3.191), FetchedTranscriptSnippet(text='to produce a prediction of the next word.', start=379.764, duration=2.296), FetchedTranscriptSnippet(text=\"Again, the model's prediction looks like a probability for every possible next word.\", start=382.48, duration=4.88), FetchedTranscriptSnippet(text='Although researchers design the framework for how each of these steps work,', start=388.56, duration=4.234), FetchedTranscriptSnippet(text=\"it's important to understand that the specific behavior is an emergent phenomenon\", start=392.794, duration=4.568), FetchedTranscriptSnippet(text='based on how those hundreds of billions of parameters are tuned during training.', start=397.362, duration=4.458), FetchedTranscriptSnippet(text='This makes it incredibly challenging to determine', start=402.48, duration=2.59), FetchedTranscriptSnippet(text='why the model makes the exact predictions that it does.', start=405.07, duration=2.85), FetchedTranscriptSnippet(text='What you can see is that when you use large language model predictions to autocomplete', start=408.44, duration=5.338), FetchedTranscriptSnippet(text='a prompt, the words that it generates are uncannily fluent, fascinating, and even useful.', start=413.778, duration=5.462), FetchedTranscriptSnippet(text=\"If you're a new viewer and you're curious about more details on how\", start=425.719, duration=3.107), FetchedTranscriptSnippet(text='transformers and attention work, boy do I have some material for you.', start=428.826, duration=3.153), FetchedTranscriptSnippet(text='One option is to jump into a series I made about deep learning,', start=432.399, duration=3.681), FetchedTranscriptSnippet(text='where we visualize and motivate the details of attention and all the other steps', start=436.08, duration=4.66), FetchedTranscriptSnippet(text='in a transformer.', start=440.74, duration=0.979), FetchedTranscriptSnippet(text='Also, on my second channel I just posted a talk I gave a couple', start=442.099, duration=3.43), FetchedTranscriptSnippet(text='months ago about this topic for the company TNG in Munich.', start=445.529, duration=3.11), FetchedTranscriptSnippet(text='Sometimes I actually prefer the content I make as a casual talk rather than a produced', start=449.079, duration=4.022), FetchedTranscriptSnippet(text='video, but I leave it up to you which one of these feels like the better follow-on.', start=453.101, duration=3.838)], video_id='LPZh9BOjkQs', language='English', language_code='en', is_generated=False)"
            ]
          },
          "metadata": {},
          "execution_count": 32
        }
      ]
    },
    {
      "cell_type": "code",
      "source": [
        "transcript = \" \".join(snippet.text for snippet in fetched_transcript)\n",
        "print(transcript)"
      ],
      "metadata": {
        "colab": {
          "base_uri": "https://localhost:8080/"
        },
        "id": "ShYex1vnfzb2",
        "outputId": "cd9d0417-5564-4158-e781-1c68c30d71df"
      },
      "execution_count": null,
      "outputs": [
        {
          "output_type": "stream",
          "name": "stdout",
          "text": [
            "Imagine you happen across a short movie script that describes a scene between a person and their AI assistant. The script has what the person asks the AI, but the AI's response has been torn off. Suppose you also have this powerful magical machine that can take any text and provide a sensible prediction of what word comes next. You could then finish the script by feeding in what you have to the machine, seeing what it would predict to start the AI's answer, and then repeating this over and over with a growing script completing the dialogue. When you interact with a chatbot, this is exactly what's happening. A large language model is a sophisticated mathematical function that predicts what word comes next for any piece of text. Instead of predicting one word with certainty, though, what it does is assign a probability to all possible next words. To build a chatbot, you lay out some text that describes an interaction between a user and a hypothetical AI assistant, add on whatever the user types in as the first part of the interaction, and then have the model repeatedly predict the next word that such a hypothetical AI assistant would say in response, and that's what's presented to the user. In doing this, the output tends to look a lot more natural if you allow it to select less likely words along the way at random. So what this means is even though the model itself is deterministic, a given prompt typically gives a different answer each time it's run. Models learn how to make these predictions by processing an enormous amount of text, typically pulled from the internet. For a standard human to read the amount of text that was used to train GPT-3, for example, if they read non-stop 24-7, it would take over 2600 years. Larger models since then train on much, much more. You can think of training a little bit like tuning the dials on a big machine. The way that a language model behaves is entirely determined by these many different continuous values, usually called parameters or weights. Changing those parameters will change the probabilities that the model gives for the next word on a given input. What puts the large in large language model is how they can have hundreds of billions of these parameters. No human ever deliberately sets those parameters. Instead, they begin at random, meaning the model just outputs gibberish, but they're repeatedly refined based on many example pieces of text. One of these training examples could be just a handful of words, or it could be thousands, but in either case, the way this works is to pass in all but the last word from that example into the model and compare the prediction that it makes with the true last word from the example. An algorithm called backpropagation is used to tweak all of the parameters in such a way that it makes the model a little more likely to choose the true last word and a little less likely to choose all the others. When you do this for many, many trillions of examples, not only does the model start to give more accurate predictions on the training data, but it also starts to make more reasonable predictions on text that it's never seen before. Given the huge number of parameters and the enormous amount of training data, the scale of computation involved in training a large language model is mind-boggling. To illustrate, imagine that you could perform one billion additions and multiplications every single second. How long do you think it would take for you to do all of the operations involved in training the largest language models? Do you think it would take a year? Maybe something like 10,000 years? The answer is actually much more than that. It's well over 100 million years. This is only part of the story, though. This whole process is called pre-training. The goal of auto-completing a random passage of text from the internet is very different from the goal of being a good AI assistant. To address this, chatbots undergo another type of training, just as important, called reinforcement learning with human feedback. Workers flag unhelpful or problematic predictions, and their corrections further change the model's parameters, making them more likely to give predictions that users prefer. Looking back at the pre-training, though, this staggering amount of computation is only made possible by using special computer chips that are optimized for running many operations in parallel, known as GPUs. However, not all language models can be easily parallelized. Prior to 2017, most language models would process text one word at a time, but then a team of researchers at Google introduced a new model known as the transformer. Transformers don't read text from the start to the finish, they soak it all in at once, in parallel. The very first step inside a transformer, and most other language models for that matter, is to associate each word with a long list of numbers. The reason for this is that the training process only works with continuous values, so you have to somehow encode language using numbers, and each of these lists of numbers may somehow encode the meaning of the corresponding word. What makes transformers unique is their reliance on a special operation known as attention. This operation gives all of these lists of numbers a chance to talk to one another and refine the meanings they encode based on the context around, all done in parallel. For example, the numbers encoding the word bank might be changed based on the context surrounding it to somehow encode the more specific notion of a riverbank. Transformers typically also include a second type of operation known as a feed-forward neural network, and this gives the model extra capacity to store more patterns about language learned during training. All of this data repeatedly flows through many different iterations of these two fundamental operations, and as it does so, the hope is that each list of numbers is enriched to encode whatever information might be needed to make an accurate prediction of what word follows in the passage. At the end, one final function is performed on the last vector in this sequence, which now has had a chance to be influenced by all the other context from the input text, as well as everything the model learned during training, to produce a prediction of the next word. Again, the model's prediction looks like a probability for every possible next word. Although researchers design the framework for how each of these steps work, it's important to understand that the specific behavior is an emergent phenomenon based on how those hundreds of billions of parameters are tuned during training. This makes it incredibly challenging to determine why the model makes the exact predictions that it does. What you can see is that when you use large language model predictions to autocomplete a prompt, the words that it generates are uncannily fluent, fascinating, and even useful. If you're a new viewer and you're curious about more details on how transformers and attention work, boy do I have some material for you. One option is to jump into a series I made about deep learning, where we visualize and motivate the details of attention and all the other steps in a transformer. Also, on my second channel I just posted a talk I gave a couple months ago about this topic for the company TNG in Munich. Sometimes I actually prefer the content I make as a casual talk rather than a produced video, but I leave it up to you which one of these feels like the better follow-on.\n"
          ]
        }
      ]
    },
    {
      "cell_type": "code",
      "source": [
        "splitter = RecursiveCharacterTextSplitter(\n",
        "    chunk_size=1000,\n",
        "    chunk_overlap=200,\n",
        ")\n",
        "chunk = splitter.create_documents([transcript])"
      ],
      "metadata": {
        "id": "DGv_vjy4gt3V"
      },
      "execution_count": null,
      "outputs": []
    },
    {
      "cell_type": "code",
      "source": [
        "len(chunk)"
      ],
      "metadata": {
        "colab": {
          "base_uri": "https://localhost:8080/"
        },
        "id": "aNqd3ks8hB4G",
        "outputId": "d6a3817e-39a5-4bcf-ebbd-f1cb84ef40f3"
      },
      "execution_count": null,
      "outputs": [
        {
          "output_type": "execute_result",
          "data": {
            "text/plain": [
              "10"
            ]
          },
          "metadata": {},
          "execution_count": 45
        }
      ]
    },
    {
      "cell_type": "markdown",
      "source": [
        "**Embedding**"
      ],
      "metadata": {
        "id": "lwk1qozUhc5W"
      }
    },
    {
      "cell_type": "code",
      "source": [
        "from google.colab import userdata\n",
        "import os\n",
        "\n",
        "os.environ[\"HUGGINGFACEHUB_API_TOKEN\"] = userdata.get(\"HUGGINGFACEHUB_API_TOKEN\")\n",
        "\n",
        "embedding_model = HuggingFaceEndpointEmbeddings(\n",
        "    repo_id=\"sentence-transformers/all-MiniLM-L6-v2\",\n",
        ")"
      ],
      "metadata": {
        "id": "fjLbVsdnheh9"
      },
      "execution_count": null,
      "outputs": []
    },
    {
      "cell_type": "code",
      "source": [
        "vector_store = FAISS.from_documents(chunk, embedding_model)"
      ],
      "metadata": {
        "colab": {
          "base_uri": "https://localhost:8080/"
        },
        "id": "SmlnkcfTiPA9",
        "outputId": "d496ec03-8f42-4c82-c3f8-b72fe6ef2b0b"
      },
      "execution_count": null,
      "outputs": [
        {
          "output_type": "stream",
          "name": "stderr",
          "text": [
            "/usr/local/lib/python3.12/dist-packages/huggingface_hub/utils/_auth.py:94: UserWarning: \n",
            "The secret `HF_TOKEN` does not exist in your Colab secrets.\n",
            "To authenticate with the Hugging Face Hub, create a token in your settings tab (https://huggingface.co/settings/tokens), set it as secret in your Google Colab and restart your session.\n",
            "You will be able to reuse this secret in all of your notebooks.\n",
            "Please note that authentication is recommended but still optional to access public models or datasets.\n",
            "  warnings.warn(\n"
          ]
        }
      ]
    },
    {
      "cell_type": "code",
      "source": [
        "vector_store.index_to_docstore_id"
      ],
      "metadata": {
        "colab": {
          "base_uri": "https://localhost:8080/"
        },
        "id": "L00Bo57fjDl1",
        "outputId": "84d5d1ee-d2ef-41e4-f85c-f06b0d065fef"
      },
      "execution_count": null,
      "outputs": [
        {
          "output_type": "execute_result",
          "data": {
            "text/plain": [
              "{0: '23675828-81d5-443c-8916-6662827dc6c6',\n",
              " 1: 'c6b3ad80-c4f8-4780-a8d7-6f0f6ebbe5d1',\n",
              " 2: 'e79b4236-d3fa-4847-8d6f-4a7611bc75fe',\n",
              " 3: '658dc7b9-c2dd-4671-91dd-a7d776eb2c22',\n",
              " 4: '2bb74dd1-aece-4b38-89c0-cf49ef99b055',\n",
              " 5: '5e424f33-7d7b-4ec5-974c-137ed62580fc',\n",
              " 6: '61c10c32-b278-423a-9834-e09b1f0462d9',\n",
              " 7: '38fac04c-16fb-4c7c-ab51-d2bd231bcd45',\n",
              " 8: '955baa29-9723-4ee2-add0-1d7ede042477',\n",
              " 9: '479115f0-3d57-472b-8b01-3df1423ca6e4'}"
            ]
          },
          "metadata": {},
          "execution_count": 55
        }
      ]
    },
    {
      "cell_type": "code",
      "source": [
        "vector_store.get_by_ids(['23675828-81d5-443c-8916-6662827dc6c6'])"
      ],
      "metadata": {
        "colab": {
          "base_uri": "https://localhost:8080/"
        },
        "id": "tJlz--2QjLf1",
        "outputId": "6afa22a2-ce45-43f2-c9c2-1dd49fb9c632"
      },
      "execution_count": null,
      "outputs": [
        {
          "output_type": "execute_result",
          "data": {
            "text/plain": [
              "[Document(id='23675828-81d5-443c-8916-6662827dc6c6', metadata={}, page_content=\"Imagine you happen across a short movie script that describes a scene between a person and their AI assistant. The script has what the person asks the AI, but the AI's response has been torn off. Suppose you also have this powerful magical machine that can take any text and provide a sensible prediction of what word comes next. You could then finish the script by feeding in what you have to the machine, seeing what it would predict to start the AI's answer, and then repeating this over and over with a growing script completing the dialogue. When you interact with a chatbot, this is exactly what's happening. A large language model is a sophisticated mathematical function that predicts what word comes next for any piece of text. Instead of predicting one word with certainty, though, what it does is assign a probability to all possible next words. To build a chatbot, you lay out some text that describes an interaction between a user and a hypothetical AI assistant, add on whatever the\")]"
            ]
          },
          "metadata": {},
          "execution_count": 57
        }
      ]
    },
    {
      "cell_type": "markdown",
      "source": [
        "**Retriever**"
      ],
      "metadata": {
        "id": "r3Z8aVdljiO9"
      }
    },
    {
      "cell_type": "code",
      "source": [
        "retriever = vector_store.as_retriever(search_type='similarity', search_kwargs={'k': 6})"
      ],
      "metadata": {
        "id": "s2M50HwUjlqu"
      },
      "execution_count": 79,
      "outputs": []
    },
    {
      "cell_type": "code",
      "source": [
        "retriever.invoke('what is llm')"
      ],
      "metadata": {
        "colab": {
          "base_uri": "https://localhost:8080/"
        },
        "id": "IPtAZorvl4Uk",
        "outputId": "d8c70591-c0ab-4b76-e651-c27b5a2c6947"
      },
      "execution_count": null,
      "outputs": [
        {
          "output_type": "execute_result",
          "data": {
            "text/plain": [
              "[Document(id='38fac04c-16fb-4c7c-ab51-d2bd231bcd45', metadata={}, page_content=\"type of operation known as a feed-forward neural network, and this gives the model extra capacity to store more patterns about language learned during training. All of this data repeatedly flows through many different iterations of these two fundamental operations, and as it does so, the hope is that each list of numbers is enriched to encode whatever information might be needed to make an accurate prediction of what word follows in the passage. At the end, one final function is performed on the last vector in this sequence, which now has had a chance to be influenced by all the other context from the input text, as well as everything the model learned during training, to produce a prediction of the next word. Again, the model's prediction looks like a probability for every possible next word. Although researchers design the framework for how each of these steps work, it's important to understand that the specific behavior is an emergent phenomenon based on how those hundreds of\"),\n",
              " Document(id='c6b3ad80-c4f8-4780-a8d7-6f0f6ebbe5d1', metadata={}, page_content=\"it does is assign a probability to all possible next words. To build a chatbot, you lay out some text that describes an interaction between a user and a hypothetical AI assistant, add on whatever the user types in as the first part of the interaction, and then have the model repeatedly predict the next word that such a hypothetical AI assistant would say in response, and that's what's presented to the user. In doing this, the output tends to look a lot more natural if you allow it to select less likely words along the way at random. So what this means is even though the model itself is deterministic, a given prompt typically gives a different answer each time it's run. Models learn how to make these predictions by processing an enormous amount of text, typically pulled from the internet. For a standard human to read the amount of text that was used to train GPT-3, for example, if they read non-stop 24-7, it would take over 2600 years. Larger models since then train on much, much more.\"),\n",
              " Document(id='479115f0-3d57-472b-8b01-3df1423ca6e4', metadata={}, page_content='the other steps in a transformer. Also, on my second channel I just posted a talk I gave a couple months ago about this topic for the company TNG in Munich. Sometimes I actually prefer the content I make as a casual talk rather than a produced video, but I leave it up to you which one of these feels like the better follow-on.'),\n",
              " Document(id='23675828-81d5-443c-8916-6662827dc6c6', metadata={}, page_content=\"Imagine you happen across a short movie script that describes a scene between a person and their AI assistant. The script has what the person asks the AI, but the AI's response has been torn off. Suppose you also have this powerful magical machine that can take any text and provide a sensible prediction of what word comes next. You could then finish the script by feeding in what you have to the machine, seeing what it would predict to start the AI's answer, and then repeating this over and over with a growing script completing the dialogue. When you interact with a chatbot, this is exactly what's happening. A large language model is a sophisticated mathematical function that predicts what word comes next for any piece of text. Instead of predicting one word with certainty, though, what it does is assign a probability to all possible next words. To build a chatbot, you lay out some text that describes an interaction between a user and a hypothetical AI assistant, add on whatever the\")]"
            ]
          },
          "metadata": {},
          "execution_count": 60
        }
      ]
    },
    {
      "cell_type": "markdown",
      "source": [
        "**Augmentation**"
      ],
      "metadata": {
        "id": "inoQfpwFmiKM"
      }
    },
    {
      "cell_type": "code",
      "source": [
        "from langchain_groq import ChatGroq\n",
        "llm = ChatGroq(\n",
        "    groq_api_key=userdata.get(\"GROQ_API_KEY\"),\n",
        "    model=\"llama-3.1-8b-instant\",\n",
        "    temperature=0,\n",
        "    )"
      ],
      "metadata": {
        "id": "hvEkEb3ymkf8"
      },
      "execution_count": null,
      "outputs": []
    },
    {
      "cell_type": "code",
      "source": [
        "prompt = PromptTemplate(\n",
        "    template = \"\"\"\n",
        "    You are a helpful assistant\n",
        "    Answer ONLY from the provided transcript context.\n",
        "    If the context is insufficient, say \"I don't know\".\n",
        "\n",
        "    {context}\n",
        "\n",
        "    Question: {question}\n",
        "\n",
        "    \"\"\",\n",
        "    input_variables=['context', 'question']\n",
        ")"
      ],
      "metadata": {
        "id": "cSwSbx2Qm1OF"
      },
      "execution_count": null,
      "outputs": []
    },
    {
      "cell_type": "code",
      "source": [
        "question = \"In this video discuss about LLM\"\n",
        "retrieved_docs = retriever.invoke(question)"
      ],
      "metadata": {
        "id": "_v_yL1BEnjrt"
      },
      "execution_count": 89,
      "outputs": []
    },
    {
      "cell_type": "code",
      "source": [
        "retrieved_docs"
      ],
      "metadata": {
        "colab": {
          "base_uri": "https://localhost:8080/"
        },
        "id": "EXVNKl4bvi7g",
        "outputId": "bf557d13-7ca3-4bfc-ab5a-ad958f3fcfce"
      },
      "execution_count": 90,
      "outputs": [
        {
          "output_type": "execute_result",
          "data": {
            "text/plain": [
              "[Document(id='479115f0-3d57-472b-8b01-3df1423ca6e4', metadata={}, page_content='the other steps in a transformer. Also, on my second channel I just posted a talk I gave a couple months ago about this topic for the company TNG in Munich. Sometimes I actually prefer the content I make as a casual talk rather than a produced video, but I leave it up to you which one of these feels like the better follow-on.'),\n",
              " Document(id='38fac04c-16fb-4c7c-ab51-d2bd231bcd45', metadata={}, page_content=\"type of operation known as a feed-forward neural network, and this gives the model extra capacity to store more patterns about language learned during training. All of this data repeatedly flows through many different iterations of these two fundamental operations, and as it does so, the hope is that each list of numbers is enriched to encode whatever information might be needed to make an accurate prediction of what word follows in the passage. At the end, one final function is performed on the last vector in this sequence, which now has had a chance to be influenced by all the other context from the input text, as well as everything the model learned during training, to produce a prediction of the next word. Again, the model's prediction looks like a probability for every possible next word. Although researchers design the framework for how each of these steps work, it's important to understand that the specific behavior is an emergent phenomenon based on how those hundreds of\"),\n",
              " Document(id='c6b3ad80-c4f8-4780-a8d7-6f0f6ebbe5d1', metadata={}, page_content=\"it does is assign a probability to all possible next words. To build a chatbot, you lay out some text that describes an interaction between a user and a hypothetical AI assistant, add on whatever the user types in as the first part of the interaction, and then have the model repeatedly predict the next word that such a hypothetical AI assistant would say in response, and that's what's presented to the user. In doing this, the output tends to look a lot more natural if you allow it to select less likely words along the way at random. So what this means is even though the model itself is deterministic, a given prompt typically gives a different answer each time it's run. Models learn how to make these predictions by processing an enormous amount of text, typically pulled from the internet. For a standard human to read the amount of text that was used to train GPT-3, for example, if they read non-stop 24-7, it would take over 2600 years. Larger models since then train on much, much more.\"),\n",
              " Document(id='955baa29-9723-4ee2-add0-1d7ede042477', metadata={}, page_content=\"next word. Although researchers design the framework for how each of these steps work, it's important to understand that the specific behavior is an emergent phenomenon based on how those hundreds of billions of parameters are tuned during training. This makes it incredibly challenging to determine why the model makes the exact predictions that it does. What you can see is that when you use large language model predictions to autocomplete a prompt, the words that it generates are uncannily fluent, fascinating, and even useful. If you're a new viewer and you're curious about more details on how transformers and attention work, boy do I have some material for you. One option is to jump into a series I made about deep learning, where we visualize and motivate the details of attention and all the other steps in a transformer. Also, on my second channel I just posted a talk I gave a couple months ago about this topic for the company TNG in Munich. Sometimes I actually prefer the content I\"),\n",
              " Document(id='23675828-81d5-443c-8916-6662827dc6c6', metadata={}, page_content=\"Imagine you happen across a short movie script that describes a scene between a person and their AI assistant. The script has what the person asks the AI, but the AI's response has been torn off. Suppose you also have this powerful magical machine that can take any text and provide a sensible prediction of what word comes next. You could then finish the script by feeding in what you have to the machine, seeing what it would predict to start the AI's answer, and then repeating this over and over with a growing script completing the dialogue. When you interact with a chatbot, this is exactly what's happening. A large language model is a sophisticated mathematical function that predicts what word comes next for any piece of text. Instead of predicting one word with certainty, though, what it does is assign a probability to all possible next words. To build a chatbot, you lay out some text that describes an interaction between a user and a hypothetical AI assistant, add on whatever the\"),\n",
              " Document(id='2bb74dd1-aece-4b38-89c0-cf49ef99b055', metadata={}, page_content=\"the enormous amount of training data, the scale of computation involved in training a large language model is mind-boggling. To illustrate, imagine that you could perform one billion additions and multiplications every single second. How long do you think it would take for you to do all of the operations involved in training the largest language models? Do you think it would take a year? Maybe something like 10,000 years? The answer is actually much more than that. It's well over 100 million years. This is only part of the story, though. This whole process is called pre-training. The goal of auto-completing a random passage of text from the internet is very different from the goal of being a good AI assistant. To address this, chatbots undergo another type of training, just as important, called reinforcement learning with human feedback. Workers flag unhelpful or problematic predictions, and their corrections further change the model's parameters, making them more likely to give\")]"
            ]
          },
          "metadata": {},
          "execution_count": 90
        }
      ]
    },
    {
      "cell_type": "code",
      "source": [
        "context_text = \"\\n\\n\".join(doc.page_content for doc in retrieved_docs)\n",
        "context_text"
      ],
      "metadata": {
        "id": "BC1GJui7nxz0",
        "colab": {
          "base_uri": "https://localhost:8080/",
          "height": 139
        },
        "outputId": "5d0464f5-fb6a-4ebc-a219-561bf48550ca"
      },
      "execution_count": 91,
      "outputs": [
        {
          "output_type": "execute_result",
          "data": {
            "text/plain": [
              "\"the other steps in a transformer. Also, on my second channel I just posted a talk I gave a couple months ago about this topic for the company TNG in Munich. Sometimes I actually prefer the content I make as a casual talk rather than a produced video, but I leave it up to you which one of these feels like the better follow-on.\\n\\ntype of operation known as a feed-forward neural network, and this gives the model extra capacity to store more patterns about language learned during training. All of this data repeatedly flows through many different iterations of these two fundamental operations, and as it does so, the hope is that each list of numbers is enriched to encode whatever information might be needed to make an accurate prediction of what word follows in the passage. At the end, one final function is performed on the last vector in this sequence, which now has had a chance to be influenced by all the other context from the input text, as well as everything the model learned during training, to produce a prediction of the next word. Again, the model's prediction looks like a probability for every possible next word. Although researchers design the framework for how each of these steps work, it's important to understand that the specific behavior is an emergent phenomenon based on how those hundreds of\\n\\nit does is assign a probability to all possible next words. To build a chatbot, you lay out some text that describes an interaction between a user and a hypothetical AI assistant, add on whatever the user types in as the first part of the interaction, and then have the model repeatedly predict the next word that such a hypothetical AI assistant would say in response, and that's what's presented to the user. In doing this, the output tends to look a lot more natural if you allow it to select less likely words along the way at random. So what this means is even though the model itself is deterministic, a given prompt typically gives a different answer each time it's run. Models learn how to make these predictions by processing an enormous amount of text, typically pulled from the internet. For a standard human to read the amount of text that was used to train GPT-3, for example, if they read non-stop 24-7, it would take over 2600 years. Larger models since then train on much, much more.\\n\\nnext word. Although researchers design the framework for how each of these steps work, it's important to understand that the specific behavior is an emergent phenomenon based on how those hundreds of billions of parameters are tuned during training. This makes it incredibly challenging to determine why the model makes the exact predictions that it does. What you can see is that when you use large language model predictions to autocomplete a prompt, the words that it generates are uncannily fluent, fascinating, and even useful. If you're a new viewer and you're curious about more details on how transformers and attention work, boy do I have some material for you. One option is to jump into a series I made about deep learning, where we visualize and motivate the details of attention and all the other steps in a transformer. Also, on my second channel I just posted a talk I gave a couple months ago about this topic for the company TNG in Munich. Sometimes I actually prefer the content I\\n\\nImagine you happen across a short movie script that describes a scene between a person and their AI assistant. The script has what the person asks the AI, but the AI's response has been torn off. Suppose you also have this powerful magical machine that can take any text and provide a sensible prediction of what word comes next. You could then finish the script by feeding in what you have to the machine, seeing what it would predict to start the AI's answer, and then repeating this over and over with a growing script completing the dialogue. When you interact with a chatbot, this is exactly what's happening. A large language model is a sophisticated mathematical function that predicts what word comes next for any piece of text. Instead of predicting one word with certainty, though, what it does is assign a probability to all possible next words. To build a chatbot, you lay out some text that describes an interaction between a user and a hypothetical AI assistant, add on whatever the\\n\\nthe enormous amount of training data, the scale of computation involved in training a large language model is mind-boggling. To illustrate, imagine that you could perform one billion additions and multiplications every single second. How long do you think it would take for you to do all of the operations involved in training the largest language models? Do you think it would take a year? Maybe something like 10,000 years? The answer is actually much more than that. It's well over 100 million years. This is only part of the story, though. This whole process is called pre-training. The goal of auto-completing a random passage of text from the internet is very different from the goal of being a good AI assistant. To address this, chatbots undergo another type of training, just as important, called reinforcement learning with human feedback. Workers flag unhelpful or problematic predictions, and their corrections further change the model's parameters, making them more likely to give\""
            ],
            "application/vnd.google.colaboratory.intrinsic+json": {
              "type": "string"
            }
          },
          "metadata": {},
          "execution_count": 91
        }
      ]
    },
    {
      "cell_type": "code",
      "source": [
        "final_prompt = prompt.invoke({'context': context_text, 'question': question})"
      ],
      "metadata": {
        "id": "IIp73-Y2unzm"
      },
      "execution_count": 92,
      "outputs": []
    },
    {
      "cell_type": "code",
      "source": [
        "final_prompt"
      ],
      "metadata": {
        "colab": {
          "base_uri": "https://localhost:8080/"
        },
        "id": "d5lDaapVwlbv",
        "outputId": "b7122d7f-8516-4523-e3f4-25f0b425e9b4"
      },
      "execution_count": 93,
      "outputs": [
        {
          "output_type": "execute_result",
          "data": {
            "text/plain": [
              "StringPromptValue(text='\\n    You are a helpful assistant\\n    Answer ONLY from the provided transcript context.\\n    If the context is insufficient, say \"I don\\'t know\".\\n\\n    the other steps in a transformer. Also, on my second channel I just posted a talk I gave a couple months ago about this topic for the company TNG in Munich. Sometimes I actually prefer the content I make as a casual talk rather than a produced video, but I leave it up to you which one of these feels like the better follow-on.\\n\\ntype of operation known as a feed-forward neural network, and this gives the model extra capacity to store more patterns about language learned during training. All of this data repeatedly flows through many different iterations of these two fundamental operations, and as it does so, the hope is that each list of numbers is enriched to encode whatever information might be needed to make an accurate prediction of what word follows in the passage. At the end, one final function is performed on the last vector in this sequence, which now has had a chance to be influenced by all the other context from the input text, as well as everything the model learned during training, to produce a prediction of the next word. Again, the model\\'s prediction looks like a probability for every possible next word. Although researchers design the framework for how each of these steps work, it\\'s important to understand that the specific behavior is an emergent phenomenon based on how those hundreds of\\n\\nit does is assign a probability to all possible next words. To build a chatbot, you lay out some text that describes an interaction between a user and a hypothetical AI assistant, add on whatever the user types in as the first part of the interaction, and then have the model repeatedly predict the next word that such a hypothetical AI assistant would say in response, and that\\'s what\\'s presented to the user. In doing this, the output tends to look a lot more natural if you allow it to select less likely words along the way at random. So what this means is even though the model itself is deterministic, a given prompt typically gives a different answer each time it\\'s run. Models learn how to make these predictions by processing an enormous amount of text, typically pulled from the internet. For a standard human to read the amount of text that was used to train GPT-3, for example, if they read non-stop 24-7, it would take over 2600 years. Larger models since then train on much, much more.\\n\\nnext word. Although researchers design the framework for how each of these steps work, it\\'s important to understand that the specific behavior is an emergent phenomenon based on how those hundreds of billions of parameters are tuned during training. This makes it incredibly challenging to determine why the model makes the exact predictions that it does. What you can see is that when you use large language model predictions to autocomplete a prompt, the words that it generates are uncannily fluent, fascinating, and even useful. If you\\'re a new viewer and you\\'re curious about more details on how transformers and attention work, boy do I have some material for you. One option is to jump into a series I made about deep learning, where we visualize and motivate the details of attention and all the other steps in a transformer. Also, on my second channel I just posted a talk I gave a couple months ago about this topic for the company TNG in Munich. Sometimes I actually prefer the content I\\n\\nImagine you happen across a short movie script that describes a scene between a person and their AI assistant. The script has what the person asks the AI, but the AI\\'s response has been torn off. Suppose you also have this powerful magical machine that can take any text and provide a sensible prediction of what word comes next. You could then finish the script by feeding in what you have to the machine, seeing what it would predict to start the AI\\'s answer, and then repeating this over and over with a growing script completing the dialogue. When you interact with a chatbot, this is exactly what\\'s happening. A large language model is a sophisticated mathematical function that predicts what word comes next for any piece of text. Instead of predicting one word with certainty, though, what it does is assign a probability to all possible next words. To build a chatbot, you lay out some text that describes an interaction between a user and a hypothetical AI assistant, add on whatever the\\n\\nthe enormous amount of training data, the scale of computation involved in training a large language model is mind-boggling. To illustrate, imagine that you could perform one billion additions and multiplications every single second. How long do you think it would take for you to do all of the operations involved in training the largest language models? Do you think it would take a year? Maybe something like 10,000 years? The answer is actually much more than that. It\\'s well over 100 million years. This is only part of the story, though. This whole process is called pre-training. The goal of auto-completing a random passage of text from the internet is very different from the goal of being a good AI assistant. To address this, chatbots undergo another type of training, just as important, called reinforcement learning with human feedback. Workers flag unhelpful or problematic predictions, and their corrections further change the model\\'s parameters, making them more likely to give\\n\\n    Question: In this video discuss about LLM\\n\\n    ')"
            ]
          },
          "metadata": {},
          "execution_count": 93
        }
      ]
    },
    {
      "cell_type": "markdown",
      "source": [
        "**Generation**"
      ],
      "metadata": {
        "id": "bRQndM-mwKgQ"
      }
    },
    {
      "cell_type": "code",
      "source": [
        "answer = llm.invoke(final_prompt)\n",
        "print(answer.content)"
      ],
      "metadata": {
        "colab": {
          "base_uri": "https://localhost:8080/"
        },
        "id": "a16cqKyrwNNP",
        "outputId": "20855b50-9ec7-40be-9fc6-3ce1e4b9e5e5"
      },
      "execution_count": 94,
      "outputs": [
        {
          "output_type": "stream",
          "name": "stdout",
          "text": [
            "Yes, in this video, the speaker discusses about Large Language Models (LLM).\n"
          ]
        }
      ]
    },
    {
      "cell_type": "markdown",
      "source": [
        "**Chain**"
      ],
      "metadata": {
        "id": "NJjDCagqyiM4"
      }
    },
    {
      "cell_type": "code",
      "source": [
        "from langchain_core.runnables import RunnableParallel, RunnablePassthrough,RunnableLambda\n",
        "from langchain_core.output_parsers import StrOutputParser"
      ],
      "metadata": {
        "id": "AZ6bWn-nyj73"
      },
      "execution_count": 95,
      "outputs": []
    },
    {
      "cell_type": "code",
      "source": [
        "def format_docs(retrieved_docs):\n",
        "  context_text = \"\\n\\n\".join(doc.page_content for doc in retrieved_docs)\n",
        "  return context_text\n"
      ],
      "metadata": {
        "id": "qZKifwudzRci"
      },
      "execution_count": 96,
      "outputs": []
    },
    {
      "cell_type": "code",
      "source": [
        "parallel_chain = RunnableParallel({\n",
        "    'context': retriever | RunnableLambda(format_docs),\n",
        "    'question': RunnablePassthrough()\n",
        "})"
      ],
      "metadata": {
        "id": "Ih1WpK5cztU5"
      },
      "execution_count": 97,
      "outputs": []
    },
    {
      "cell_type": "code",
      "source": [
        "parallel_chain.invoke('What is llm')"
      ],
      "metadata": {
        "colab": {
          "base_uri": "https://localhost:8080/"
        },
        "id": "5p7GaUsz0icA",
        "outputId": "68c2c3c3-c046-4f75-f630-5024c4dcd6f3"
      },
      "execution_count": 98,
      "outputs": [
        {
          "output_type": "execute_result",
          "data": {
            "text/plain": [
              "{'context': \"type of operation known as a feed-forward neural network, and this gives the model extra capacity to store more patterns about language learned during training. All of this data repeatedly flows through many different iterations of these two fundamental operations, and as it does so, the hope is that each list of numbers is enriched to encode whatever information might be needed to make an accurate prediction of what word follows in the passage. At the end, one final function is performed on the last vector in this sequence, which now has had a chance to be influenced by all the other context from the input text, as well as everything the model learned during training, to produce a prediction of the next word. Again, the model's prediction looks like a probability for every possible next word. Although researchers design the framework for how each of these steps work, it's important to understand that the specific behavior is an emergent phenomenon based on how those hundreds of\\n\\nit does is assign a probability to all possible next words. To build a chatbot, you lay out some text that describes an interaction between a user and a hypothetical AI assistant, add on whatever the user types in as the first part of the interaction, and then have the model repeatedly predict the next word that such a hypothetical AI assistant would say in response, and that's what's presented to the user. In doing this, the output tends to look a lot more natural if you allow it to select less likely words along the way at random. So what this means is even though the model itself is deterministic, a given prompt typically gives a different answer each time it's run. Models learn how to make these predictions by processing an enormous amount of text, typically pulled from the internet. For a standard human to read the amount of text that was used to train GPT-3, for example, if they read non-stop 24-7, it would take over 2600 years. Larger models since then train on much, much more.\\n\\nthe other steps in a transformer. Also, on my second channel I just posted a talk I gave a couple months ago about this topic for the company TNG in Munich. Sometimes I actually prefer the content I make as a casual talk rather than a produced video, but I leave it up to you which one of these feels like the better follow-on.\\n\\nImagine you happen across a short movie script that describes a scene between a person and their AI assistant. The script has what the person asks the AI, but the AI's response has been torn off. Suppose you also have this powerful magical machine that can take any text and provide a sensible prediction of what word comes next. You could then finish the script by feeding in what you have to the machine, seeing what it would predict to start the AI's answer, and then repeating this over and over with a growing script completing the dialogue. When you interact with a chatbot, this is exactly what's happening. A large language model is a sophisticated mathematical function that predicts what word comes next for any piece of text. Instead of predicting one word with certainty, though, what it does is assign a probability to all possible next words. To build a chatbot, you lay out some text that describes an interaction between a user and a hypothetical AI assistant, add on whatever the\\n\\non many example pieces of text. One of these training examples could be just a handful of words, or it could be thousands, but in either case, the way this works is to pass in all but the last word from that example into the model and compare the prediction that it makes with the true last word from the example. An algorithm called backpropagation is used to tweak all of the parameters in such a way that it makes the model a little more likely to choose the true last word and a little less likely to choose all the others. When you do this for many, many trillions of examples, not only does the model start to give more accurate predictions on the training data, but it also starts to make more reasonable predictions on text that it's never seen before. Given the huge number of parameters and the enormous amount of training data, the scale of computation involved in training a large language model is mind-boggling. To illustrate, imagine that you could perform one billion additions and\\n\\ncalled reinforcement learning with human feedback. Workers flag unhelpful or problematic predictions, and their corrections further change the model's parameters, making them more likely to give predictions that users prefer. Looking back at the pre-training, though, this staggering amount of computation is only made possible by using special computer chips that are optimized for running many operations in parallel, known as GPUs. However, not all language models can be easily parallelized. Prior to 2017, most language models would process text one word at a time, but then a team of researchers at Google introduced a new model known as the transformer. Transformers don't read text from the start to the finish, they soak it all in at once, in parallel. The very first step inside a transformer, and most other language models for that matter, is to associate each word with a long list of numbers. The reason for this is that the training process only works with continuous values, so you\",\n",
              " 'question': 'What is llm'}"
            ]
          },
          "metadata": {},
          "execution_count": 98
        }
      ]
    },
    {
      "cell_type": "code",
      "source": [
        "parser = StrOutputParser()"
      ],
      "metadata": {
        "id": "Pa_UlsTf09QO"
      },
      "execution_count": 99,
      "outputs": []
    },
    {
      "cell_type": "code",
      "source": [
        "main_chain = parallel_chain | prompt | llm | parser"
      ],
      "metadata": {
        "id": "J9RnuoFL1BU3"
      },
      "execution_count": 100,
      "outputs": []
    },
    {
      "cell_type": "code",
      "source": [
        "main_chain.invoke('what is llm')"
      ],
      "metadata": {
        "colab": {
          "base_uri": "https://localhost:8080/",
          "height": 35
        },
        "id": "QgZmQucb1M_u",
        "outputId": "670f3698-d9c3-4740-e00e-c950738181f8"
      },
      "execution_count": 103,
      "outputs": [
        {
          "output_type": "execute_result",
          "data": {
            "text/plain": [
              "'A large language model (LLM) is a sophisticated mathematical function that predicts what word comes next for any piece of text.'"
            ],
            "application/vnd.google.colaboratory.intrinsic+json": {
              "type": "string"
            }
          },
          "metadata": {},
          "execution_count": 103
        }
      ]
    }
  ],
  "metadata": {
    "colab": {
      "provenance": [],
      "authorship_tag": "ABX9TyPbw+bu6CuE+uHlekB623lT",
      "include_colab_link": true
    },
    "kernelspec": {
      "display_name": "Python 3",
      "name": "python3"
    },
    "language_info": {
      "name": "python"
    }
  },
  "nbformat": 4,
  "nbformat_minor": 0
}