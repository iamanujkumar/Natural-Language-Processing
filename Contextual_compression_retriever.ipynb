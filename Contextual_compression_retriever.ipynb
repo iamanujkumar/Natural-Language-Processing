{
  "nbformat": 4,
  "nbformat_minor": 0,
  "metadata": {
    "colab": {
      "provenance": [],
      "authorship_tag": "ABX9TyPmSBpk52JKydPZOfs7ZM87",
      "include_colab_link": true
    },
    "kernelspec": {
      "name": "python3",
      "display_name": "Python 3"
    },
    "language_info": {
      "name": "python"
    }
  },
  "cells": [
    {
      "cell_type": "markdown",
      "metadata": {
        "id": "view-in-github",
        "colab_type": "text"
      },
      "source": [
        "<a href=\"https://colab.research.google.com/github/iamanujkumar/Natural-Language-Processing/blob/main/Contextual_compression_retriever.ipynb\" target=\"_parent\"><img src=\"https://colab.research.google.com/assets/colab-badge.svg\" alt=\"Open In Colab\"/></a>"
      ]
    },
    {
      "cell_type": "code",
      "source": [
        "from langchain_community.vectorstores import Chroma\n",
        "from langchain_core.documents import Document\n",
        "from langchain_huggingface import HuggingFaceEndpointEmbeddings"
      ],
      "metadata": {
        "id": "IsCAYJEj2ghM"
      },
      "execution_count": 5,
      "outputs": []
    },
    {
      "cell_type": "code",
      "source": [
        "docs = [\n",
        "    Document(page_content=\"\"\"Artificial intelligence is transforming industries worldwide.\n",
        "    Many organizations are adopting machine learning to improve efficiency.\n",
        "    However, critics argue that AI can lead to job displacement if not managed responsibly.\n",
        "    Despite this, AI offers opportunities in healthcare for early disease detection and personalized treatment plans.\"\"\"),\n",
        "\n",
        "    Document(page_content=\"\"\"Climate change is one of the biggest challenges of our time.\n",
        "    Renewable energy sources such as solar and wind power are becoming more affordable.\n",
        "    Governments are setting targets to reduce carbon emissions, but progress is uneven across countries.\n",
        "    AI technologies are also being applied to optimize energy grids and forecast weather patterns more accurately.\"\"\"),\n",
        "\n",
        "    Document(page_content=\"\"\"In the field of natural language processing, deep learning models like transformers\n",
        "    have achieved state-of-the-art performance in tasks such as translation, summarization, and question answering.\n",
        "    These models require massive datasets and computational power, raising concerns about energy consumption.\n",
        "    Ongoing research is exploring more efficient architectures to balance accuracy and sustainability.\"\"\"),\n",
        "\n",
        "    Document(page_content=\"\"\"The history of computing dates back to early mechanical calculators.\n",
        "    Charles Babbage is often called the father of the computer for designing the Analytical Engine.\n",
        "    Over time, computers evolved from vacuum tubes to transistors and now to modern microprocessors.\n",
        "    Today’s research in quantum computing promises to revolutionize fields requiring massive parallel processing.\"\"\")\n",
        "]"
      ],
      "metadata": {
        "id": "UV-cJxwM2inU"
      },
      "execution_count": 88,
      "outputs": []
    },
    {
      "cell_type": "code",
      "source": [
        "from google.colab import userdata\n",
        "import os\n",
        "\n",
        "os.environ[\"HUGGINGFACEHUB_API_TOKEN\"] = userdata.get(\"HUGGINGFACEHUB_API_TOKEN\")\n",
        "\n",
        "embedding_model = HuggingFaceEndpointEmbeddings(\n",
        "    repo_id=\"sentence-transformers/all-MiniLM-L6-v2\",\n",
        ")"
      ],
      "metadata": {
        "id": "LIJAwRCt26Cs"
      },
      "execution_count": 89,
      "outputs": []
    },
    {
      "cell_type": "code",
      "source": [
        "vectorstore = Chroma.from_documents(\n",
        "    documents = documents,\n",
        "    embedding = embedding_model,\n",
        "    collection_name='my_collection'\n",
        ")"
      ],
      "metadata": {
        "id": "dbSnZqTW28xF"
      },
      "execution_count": 90,
      "outputs": []
    },
    {
      "cell_type": "code",
      "source": [
        "similarity_retriever = vectorstore.as_retriever(\n",
        "    search_type='similarity',\n",
        "    search_kwargs={\"k\": 5}\n",
        ")"
      ],
      "metadata": {
        "id": "-zLyxbED3thz"
      },
      "execution_count": 91,
      "outputs": []
    },
    {
      "cell_type": "code",
      "source": [
        "from langchain.retrievers import MultiQueryRetriever\n",
        "from langchain_huggingface import HuggingFaceEndpoint"
      ],
      "metadata": {
        "id": "jnFGtz8W-Mis"
      },
      "execution_count": 92,
      "outputs": []
    },
    {
      "cell_type": "code",
      "metadata": {
        "id": "d3e9dc51"
      },
      "source": [
        "from langchain_groq import ChatGroq\n",
        "from langchain.retrievers import MultiQueryRetriever\n",
        "from google.colab import userdata\n",
        "\n",
        "multiquery_retriever = MultiQueryRetriever.from_llm(\n",
        "    retriever = vectorstore.as_retriever(search_kwargs={\"k\":5}),\n",
        "    llm = ChatGroq(\n",
        "    groq_api_key=userdata.get(\"GROQ_API_KEY\"),\n",
        "    model=\"llama-3.1-8b-instant\",\n",
        "    temperature=0,\n",
        "    )\n",
        ")"
      ],
      "execution_count": 93,
      "outputs": []
    },
    {
      "cell_type": "code",
      "source": [
        "base_retriever = vectorstore.as_retriever(\n",
        "    search_type='similarity',\n",
        "    search_kwargs={\"k\": 5}\n",
        ")"
      ],
      "metadata": {
        "id": "yet86wg-Hqfa"
      },
      "execution_count": 94,
      "outputs": []
    },
    {
      "cell_type": "code",
      "source": [
        "from langchain.retrievers.document_compressors import LLMChainExtractor\n",
        "llm = ChatGroq(\n",
        "    groq_api_key=userdata.get(\"GROQ_API_KEY\"),\n",
        "    model=\"llama-3.1-8b-instant\",\n",
        "    temperature=0,\n",
        "    )\n",
        "compressor = LLMChainExtractor.from_llm(llm)"
      ],
      "metadata": {
        "id": "s9sQPgmPH9WZ"
      },
      "execution_count": 95,
      "outputs": []
    },
    {
      "cell_type": "code",
      "source": [
        "from langchain.retrievers import ContextualCompressionRetriever\n",
        "\n",
        "compression_retriever = ContextualCompressionRetriever(\n",
        "    base_retriever = base_retriever,\n",
        "    base_compressor = compressor\n",
        ")"
      ],
      "metadata": {
        "id": "eOJMhOhoHHZB"
      },
      "execution_count": 96,
      "outputs": []
    },
    {
      "cell_type": "code",
      "source": [
        "query = \"How is artificial intelligence being used in healthcare and energy optimization?\""
      ],
      "metadata": {
        "id": "LKui0__0310y"
      },
      "execution_count": 97,
      "outputs": []
    },
    {
      "cell_type": "code",
      "source": [
        "result = compression_retriever.invoke(query)\n",
        "print(result)"
      ],
      "metadata": {
        "colab": {
          "base_uri": "https://localhost:8080/"
        },
        "id": "29IRUYuX38br",
        "outputId": "e83eadec-a54a-4541-a68e-72ca1ac1e141"
      },
      "execution_count": 103,
      "outputs": [
        {
          "output_type": "stream",
          "name": "stdout",
          "text": [
            "[Document(metadata={}, page_content='Artificial intelligence is transforming industries worldwide.'), Document(metadata={}, page_content='Artificial intelligence is transforming industries worldwide.'), Document(metadata={}, page_content='Artificial intelligence is transforming industries worldwide.'), Document(metadata={}, page_content='Machine learning models are being applied in healthcare, finance, and education.'), Document(metadata={}, page_content='Machine learning models are being applied in healthcare, finance, and education.')]\n"
          ]
        }
      ]
    }
  ]
}